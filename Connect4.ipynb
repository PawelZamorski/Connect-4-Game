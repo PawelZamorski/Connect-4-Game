{
 "cells": [
  {
   "cell_type": "markdown",
   "metadata": {},
   "source": [
    "# <center>CONNECT 4</center>"
   ]
  },
  {
   "cell_type": "markdown",
   "metadata": {},
   "source": [
    "### README:\n",
    "- the implementation uses Alpha-Beta pruning optimization technique for MinMax algorithm. It was tested and it gives good result\n",
    "- dig_up method from SearchTreeNode class is used in the Runner after pruning search tree. It is used to search deeper. The idea is to create search tree to certain level, next to prune the search tree from the week branches, next dig up searching and again prune the result. This method improves preformance. Unfortunatelly, it does not gives alwasy the expected output. The expected output is first move at the middle of the board, as it guarantees the winning of the game. Max_depth for alpha-beta pruning is set up to 3, max_depth for dig_up is set up to 2, as this gives the expected output and has good performance.\n",
    "- To play the game execute the Runner at the end of notebook. The method run() executes code in loop until the game is finished.\n",
    "\n",
    "\n",
    "There are few performance tests. For that reason some of the code executes slowly."
   ]
  },
  {
   "cell_type": "code",
   "execution_count": 1,
   "metadata": {},
   "outputs": [],
   "source": [
    "import numpy as np\n",
    "import copy\n",
    "import sys"
   ]
  },
  {
   "cell_type": "markdown",
   "metadata": {},
   "source": [
    "# START"
   ]
  },
  {
   "cell_type": "code",
   "execution_count": 2,
   "metadata": {},
   "outputs": [],
   "source": [
    "# @param setup_of_board: \n",
    "# @param count_move: keep track of the number of made moves. When the game starts move=0\n",
    "# @param index: index at the game board, into which the move was done. When the game starts there is no move, what is indicated by index=-1.\n",
    "# @param player_at_this_level: keep trak of the player.\n",
    "# @param win_pos_1: total number of possible winning positions for Player_1\n",
    "# @param win_pos_2: total number of possible winning positions for Player_1\n",
    "class CurrentBoard:\n",
    "    # default CurrentBoard may be used in situation, when computer makes first move\n",
    "    def __init__(self, setup_of_board=np.zeros(42, dtype=int), count_move=0, index=-1, player_at_this_level=2, win_pos_1=69, win_pos_2=69):\n",
    "        # Check if board has the correct length\n",
    "        if len(setup_of_board) != 42:\n",
    "            print('Board has to have lenght (42)')\n",
    "        else:\n",
    "            self.board = setup_of_board # the current board. It also contains the current move made by player_at_this_level denoted by index\n",
    "        self.board_width = 7\n",
    "        self.board_height = 6\n",
    "        self.board_total = self.board_width * self.board_height\n",
    "        self.count_move = count_move # use count_move to check the draw situation\n",
    "        self.index = index # the board index where the player_at_this_level made his move\n",
    "        self.player_at_this_level = player_at_this_level\n",
    "        self.winning_positions_1 = win_pos_1\n",
    "        self.winning_positions_2 = win_pos_2\n",
    "        \n",
    "        # TODO : move to static variables\n",
    "        self.player_1 = 1 # a value to be inserted to self.board denoting player_1 move\n",
    "        self.player_2 = 2 # a value to be inserted to self.board denoting player_2 move\n",
    "        self.win = False # True if it is a win situation\n",
    "        self.draw = 0 # The value for draw situation. Draw is only after 42 move and there was not a winning situation\n",
    "        \n",
    "        # test index;\n",
    "        # set up outcome;\n",
    "        # check also if the current setup of the board is a winning situation -> done by game_won method\n",
    "        if index >= 0 and index < self.board_total:\n",
    "            # outcome after game_won function.\n",
    "            # Value may be the value from util function (win situation) or eval function (depth)\n",
    "            self.outcome = self.game_won(self.index) # Check utile/eval after every move\n",
    "\n",
    "        # Situation when the board is clean (no moves)\n",
    "        elif index == -1:\n",
    "            self.outcome = 0\n",
    "        else:\n",
    "            print('Error - Index out of bound')\n",
    "            \n",
    "    # Returns number that represents the result of a current board\n",
    "    # - sys.maxsize when it is a win situation\n",
    "    # - sum of othe eval functions (position, trap)\n",
    "    # @param - index where the next move will be done to the board\n",
    "    # TODO: change name of the method\n",
    "    # TODO: return the arrays of winning situation so all of them may be displayed (somethimes final move makes few winning situations)\n",
    "    def game_won(self, index):\n",
    "        # TODO: maybe remove it -> avoid situation when board[index]==0. We control index so there should be no such situation.\n",
    "        if self.board[index] == 0:\n",
    "            return 0\n",
    "        \n",
    "        # Check the win situation\n",
    "        if self.game_won_at(index):\n",
    "            self.win = True\n",
    "            return sys.maxsize\n",
    "\n",
    "        # Check the draw situation: use count_move to check the draw situation\n",
    "        # The win situation is checked above so it is safe to check draw situation here\n",
    "        if self.count_move == 42:\n",
    "            return self.draw # The value is needed at the last move!!!\n",
    "            \n",
    "        ## eval functions\n",
    "        eval_1 = self.eval_position()\n",
    "        # Trap\n",
    "        eval_2 = self.score_eq3_horizontal(index)\n",
    "        eval_3 = self.eval_eq5_horiz_diag_right(index)\n",
    "        eval_4 = self.eval_eq5_horiz_diag_left(index)\n",
    "        \n",
    "        return eval_1 + eval_2 + eval_3 + eval_4\n",
    "        \n",
    "    # Returns True if there is a win situation after inserting value at index to the board; return False otherwise\n",
    "    #\n",
    "    # @param index - the board index where the latest move was inserted\n",
    "    def game_won_at(self, index):\n",
    "        inc = 1 # Horizontal; increment by 1\n",
    "        if ( self.count_from(index, inc) + self.count_from(index, -inc) ) > 4: # index is counted twice, that's why it is greater than 4\n",
    "            return True\n",
    "\n",
    "        inc = self.board_width # Vertical;\n",
    "        if ( self.count_from(index, inc) + self.count_from(index, -inc) ) > 4:\n",
    "            return True\n",
    "\n",
    "        inc = self.board_width - 1 # Diagonal 1;\n",
    "        if ( self.count_from(index, inc) + self.count_from(index, -inc) ) > 4:\n",
    "            return True\n",
    "\n",
    "        inc = self.board_width + 1 # Diagonal 2\n",
    "        if ( self.count_from(index, inc) + self.count_from(index, -inc) ) > 4:\n",
    "            return True\n",
    "\n",
    "        return False\n",
    "\n",
    "    # Returns the total number of 'neighbour' elements that are equal to the board element at start_index \n",
    "    # starting from start_index argument and incrementing by increment argument (negative or positive).\n",
    "    # start_index is between 0 and board_total. It is valdate by constructor\n",
    "    # If the method runs recursively validate it in other function -> done in equal_at method (next_move)\n",
    "    #\n",
    "    # @param start_index - the board index where the latest move was inserted\n",
    "    # @param increment - the amount of positive or negative change in the start_index value\n",
    "    def count_from(self, start_index, increment):\n",
    "        # Test for edge. Apply only for horizontal and diagoanl situation. Exclude vertical situation (incrementation by board width)\n",
    "        if (abs(increment) != self.board_width) and self.edge(start_index, start_index + increment): # modulo of vertical elements is 0\n",
    "            return 1\n",
    "        elif self.equal_at(start_index, start_index + increment):\n",
    "            return 1 + self.count_from((start_index + increment), increment)           \n",
    "        else:\n",
    "            return 1\n",
    "\n",
    "    # Returns True if two board item are equal or False otherwise\n",
    "    #\n",
    "    # @param start_index - the board index of element being compared to\n",
    "    # @param next_index - the board index of other the element\n",
    "    def equal_at(self, start_index, next_index):\n",
    "        # validate if next_index is between 0 and board_total. start_index is already validated\n",
    "        return ( next_index >= 0 ) and ( next_index < self.board_total ) and ( self.board[start_index] == self.board[next_index] )\n",
    "\n",
    "    # Returns True if the element 'hit the edge' or False otherwise\n",
    "    # This function may be allpied fo horizontal, diagonal 1 and diagonal 2 situation\n",
    "    # Do not use this function to test vertical situation (subtraction of modulo of two vertical elements is 0)\n",
    "    # \n",
    "    # @param i - the board index being compared to\n",
    "    # @param j - the board other index     \n",
    "    def edge(self, i, j):\n",
    "        if abs(i%7 - j%7)!= 1: # modulo of horizontal, diagonal 1 and diagona 2 is 1. Modulo of horizontal is 0\n",
    "            return True\n",
    "        else:\n",
    "            return False\n",
    "\n",
    "\n",
    "# EVAL FUNCTIONS\n",
    "\n",
    "    # Returns the difference between the number of possible winning positions between players\n",
    "    def eval_position(self):\n",
    "        self.update_winning_positions()\n",
    "        \n",
    "        if self.player_at_this_level == self.player_1:\n",
    "            return self.winning_positions_1 - self.winning_positions_2\n",
    "        else:\n",
    "            return self.winning_positions_2 - self.winning_positions_1\n",
    "        \n",
    "        \n",
    "    # PRIVATE FUNCTIONS FOR EVAL_POSITION METHOD\n",
    "    \n",
    "    def update_winning_positions(self):\n",
    "        # update values of winning_positions_1 and winning_positions_2 \n",
    "        # based on the player_at_this_level and the index (current_move)\n",
    "        if self.player_at_this_level == self.player_1:\n",
    "            self.winning_positions_2 = self.winning_positions_2 - self.total_blocked_positions(self.index)\n",
    "\n",
    "        if self.player_at_this_level == self.player_2:\n",
    "            self.winning_positions_1 = self.winning_positions_1 - self.total_blocked_positions(self.index)\n",
    "    \n",
    "    # Returns the number of blocked winning positions after inserting value at index to the board\n",
    "    # It does not count already blocked winning positions made by earlier move.\n",
    "    #\n",
    "    # @param index - the board index where the latest move was inserted\n",
    "    def total_blocked_positions(self, index):\n",
    "        total_blocked_positions = 0\n",
    "        start_value = self.board[index] # TODO could be replaced with player_at_this_leve\n",
    "        # start_value = player_at_this_level # TODO test at first\n",
    "        \n",
    "        inc = 1 # Horizontal; increment by 1\n",
    "        total_blocked_positions = total_blocked_positions + self.count_blocked_positions(index, inc, start_value)\n",
    "        \n",
    "        inc = self.board_width # Vertical;\n",
    "        total_blocked_positions = total_blocked_positions + self.count_blocked_positions(index, inc, start_value)\n",
    "\n",
    "        inc = self.board_width - 1 # Diagonal 1;\n",
    "        total_blocked_positions = total_blocked_positions + self.count_blocked_positions(index, inc, start_value)\n",
    "\n",
    "        inc = self.board_width + 1 # Diagonal 2\n",
    "        total_blocked_positions = total_blocked_positions + self.count_blocked_positions(index, inc, start_value)\n",
    "\n",
    "        return total_blocked_positions\n",
    "    \n",
    "    # Returns the number of blocked positions horizontaly, verticaly or diagonally\n",
    "    # @param index - \n",
    "    # @param inc - \n",
    "    # @param #  TODO choose one of them: start_value/player_at_this_level  - \n",
    "    def count_blocked_positions(self, index, inc, start_value):\n",
    "        blocked_positions = 0\n",
    "        \n",
    "        # spread - the number of indices the winning positions may be build from\n",
    "        spread_inc = self.eval_count_from(index, inc, start_value)\n",
    "        spread_decr = self.eval_count_from(index, -inc, start_value)\n",
    "        # spread_inc and spread_decr can not be bigger that 4\n",
    "        if spread_inc > 4:\n",
    "            spread_inc = 4\n",
    "        if spread_decr > 4:\n",
    "            spread_decr = 4\n",
    "        \n",
    "        spread = spread_inc + spread_decr - 1 # spread of index is counted twice, that's why subtract by 1\n",
    "        if spread >= 4:\n",
    "            blocked_positions = blocked_positions + spread%4 + 1\n",
    "        \n",
    "        return blocked_positions\n",
    "    \n",
    "    # HELPER FUNCTIONS FOR count_blocked_positions METHOD\n",
    "\n",
    "    # Returns the total number of 'neighbour' elements that are equal to the board element at start_index \n",
    "    # starting from start_index argument and incrementing by increment argument (negative or positive).\n",
    "    # start_index is between 0 and board_total. It is also validated for range in equal_at\n",
    "    # \n",
    "    # Do not count more than 4 elements\n",
    "    # \n",
    "    # @param start_index - the board index where the latest move was inserted\n",
    "    # @param increment - the amount of positive or negative change in the start_index value\n",
    "    # TODO: change name of the method\n",
    "    def eval_count_from(self, start_index, increment, start_value):\n",
    "        # validate next index - it must be validated here as we increment or decrement index\n",
    "        # start_index was already validated before making input to the board\n",
    "        # but if next_index is not valid, return 1 (count the start_index)\n",
    "        if not self.valid_index(start_index + increment):\n",
    "            return 1\n",
    "        \n",
    "        # Test for edge. Apply only for horizontal and diagoanl situation. Exclude vertical situation (incrementation by board width)\n",
    "        if (abs(increment) != self.board_width) and self.edge(start_index, start_index + increment): # modulo of vertical elements is 0\n",
    "            return 1\n",
    "        elif not self.eval_equal_at(start_value, start_index + increment):\n",
    "            return 1 + self.eval_count_from(start_index + increment, increment, start_value)\n",
    "        else:\n",
    "            return 1\n",
    "\n",
    "    # Returns True if two board item are equal or False otherwise\n",
    "    #\n",
    "    # @param start_index_value - the value to compare to\n",
    "    # @param next_index - the board index of other the element\n",
    "    # TODO: change name of the method\n",
    "    def eval_equal_at(self, start_index_value, next_index):\n",
    "        return start_index_value == self.board[next_index]\n",
    "\n",
    "    # Returns True if index is between 0 and 42\n",
    "    def valid_index(self, index):\n",
    "        return ( index >= 0 ) and ( index < self.board_total )\n",
    "\n",
    "\n",
    "    # EVAL FUNCTION - SEARCH FOR A TRAP\n",
    "    \n",
    "    # Returns score value for the situation, that the move creates winning situation: 3 in a row and to available slots from both sides.\n",
    "    # There is 6 possible situations.\n",
    "    # TODO: what about situation when the columns of empty slots are below the level of 3???\n",
    "    # TODO: refactor the code; use similar way to eval_position method\n",
    "    def score_eq3_horizontal(self, index):\n",
    "        score = 0\n",
    "        if (index%7 == 1) or (index%7 == 2) or (index%7 == 3):\n",
    "            if ((self.board[index - 1]) == 0) and (self.board[index+1] == self.player_at_this_level) and (self.board[index+2] == self.player_at_this_level) and (self.board[index+3] == 0):\n",
    "                score = 100000\n",
    "        elif (index%7 == 3) or (index%7 == 4) or (index%7 == 5):\n",
    "            if (self.board[index + 1] == 0) and (self.board[index-1] == self.player_at_this_level) and (self.board[index-2] == self.player_at_this_level) and (self.board[index-3] == 0):\n",
    "                score = 100000\n",
    "        return score\n",
    "\n",
    "    # Returns score value for the situation, that the move creates winning situation: 3 in a row and diagonal right up \n",
    "    # and slot available 0n right.\n",
    "    # There is 3 main possible situations for inserting\n",
    "    # TODO: Test it\n",
    "    def eval_eq5_horiz_diag_right(self, index):\n",
    "        score = 0\n",
    "        v = self.player_at_this_level\n",
    "        empty = 0\n",
    "        \n",
    "        if index  < 14: # avoid index out of range\n",
    "            return score\n",
    "        \n",
    "        # situation 1 - insert on the left\n",
    "        if (index%7 < 4):\n",
    "            if (self.board[index+3] == empty) and (self.board[index+1] == v) and (self.board[index+2] == v) and (self.board[index-14] == v) and (self.board[index-6] == v):\n",
    "                score = 1000000\n",
    "            \n",
    "        # situation 2 - insert in the middle\n",
    "        if (index%7 < 5) and (index%7 > 0):\n",
    "            if (self.board[index+2] == empty) and (self.board[index-1] == v) and (self.board[index+1] == v) and (self.board[index-15] == v) and (self.board[index-7] == v):\n",
    "                score = 1000000\n",
    "            \n",
    "        # situation 3 - insert on the right\n",
    "        if (index%7 < 6) and (index%7 > 1):\n",
    "            if (self.board[index+1] == empty) and (self.board[index-2] == v) and (self.board[index-1] == v) and (self.board[index-16] == v) and (self.board[index-8] == v):\n",
    "                score = 1000000\n",
    "\n",
    "        return score\n",
    "    \n",
    "    \n",
    "    # Returns score value for the situation, that the move creates winning situation: 3 in a row and diagonal left up \n",
    "    # and slot available 0n right.\n",
    "    # There is 3 main possible situations for inserting\n",
    "    # TODO: Test it\n",
    "    def eval_eq5_horiz_diag_left(self, index):\n",
    "        score = 0\n",
    "        v = self.player_at_this_level\n",
    "        empty = 0\n",
    "        \n",
    "        if index  < 15: # avoid index out of range\n",
    "            return score\n",
    "        \n",
    "        # situation 1 - insert on the right\n",
    "        if (index%7 > 2):\n",
    "            if (self.board[index-3] == empty) and (self.board[index-1] == v) and (self.board[index-2] == v) and (self.board[index-14] == v) and (self.board[index-8] == v):\n",
    "                score = 1000000\n",
    "            \n",
    "        # situation 2 - insert in the middle\n",
    "        if (index%7 > 1) and (index%7 < 6):\n",
    "            if (self.board[index-2] == empty) and (self.board[index-1] == v) and (self.board[index+1] == v) and (self.board[index-13] == v) and (self.board[index-7] == v):\n",
    "                score = 1000000\n",
    "            \n",
    "        # situation 3 - insert on the left\n",
    "        if (index%7 < 0):\n",
    "            if (self.board[index-1] == empty) and (self.board[index+1] == v) and (self.board[index+2] == v) and (self.board[index-12] == v) and (self.board[index-6] == v):\n",
    "                score = 1000000\n",
    "\n",
    "        return score\n",
    "    \n",
    "        \n",
    "    # Returns True if the board is symetric or False otherwise\n",
    "    # The symetric move may occure only on symetric board. Create only left side or right side moves on symetric board\n",
    "    # TODO: right or left - could be random\n",
    "    # TODO: test this function\n",
    "    def symetric_board(self):\n",
    "        for i in range(6):\n",
    "            if self.board[0+i*7] != self.board[6+i*7]:\n",
    "                return False\n",
    "            if self.board[1+i*7] != self.board[5+i*7]:\n",
    "                return False\n",
    "            if self.board[2+i*7] != self.board[4+i*7]:\n",
    "                return False\n",
    "        return True\n",
    "\n",
    "    # Returns the list of CurrentBoard or None containing all possible moves at this stage of the game.\n",
    "    # The list have size of 7 (7 columns).\n",
    "    # None value in the list indicates, that all moves were done for a given column.\n",
    "    # Loop through rows and check if the slot is available. It is availabel if the value is greater than 0. \n",
    "    def all_possible_moves_for(self):\n",
    "        list_of_all_possible_moves = np.empty(7, CurrentBoard) # List of CurrentBoard objects, initialized with None values\n",
    "        \n",
    "        for col in range(7):\n",
    "            for row in range(6):\n",
    "                index = col + 7 * row\n",
    "                if self.board[index] == 0:\n",
    "                    temp_board = copy.deepcopy(self.board)\n",
    "                    temp_board[index] = self.other() # Insert the move done by player\n",
    "                    new_current_board = CurrentBoard(temp_board, self.count_move + 1, index=index, player_at_this_level=self.other())\n",
    "                    list_of_all_possible_moves[col]= new_current_board # append CurrentBoard object\n",
    "                    break\n",
    "        return list_of_all_possible_moves\n",
    "        \n",
    "    # Displays Game Board filled up with made moves and a row on top of a board indicating the column number.\n",
    "    # The player choose the column number to make a move\n",
    "    def display_game_board(self):\n",
    "        temp_board = np.flipud(self.board.reshape(6, 7)).reshape(42) # Reshapes, flips up/down, and reshapes board\n",
    "        \n",
    "        print('| 1| 2| 3| 4| 5| 6| 7|')\n",
    "        print('======================')\n",
    "        for index, value in enumerate(temp_board):\n",
    "            # Change the value of variable to 0 if it is greater than 0\n",
    "            if value == 0:\n",
    "                value = ''\n",
    "                \n",
    "            print('|', end = '')\n",
    "            if((index + 1)%7 == 0):\n",
    "                print('{:2}'.format(value), end = '|')\n",
    "                print('\\n----------------------')\n",
    "            else:\n",
    "                print('{:2}'.format(value), end = '')\n",
    "    \n",
    "    # Displays board with values\n",
    "    # values: 1 playre_1, 2 player_2, 0 available spaces\n",
    "    def display(self):\n",
    "        temp_board = np.flipud(self.board.reshape(6, 7)).reshape(42) # Reshapes, flips up/down, and reshapes board\n",
    "        \n",
    "        for index, value in enumerate(temp_board):\n",
    "            print('|', end = '')\n",
    "            if((index + 1)%7 == 0):\n",
    "                print('{:2}'.format(value), end = '|')\n",
    "                print('\\n----------------------')\n",
    "            else:\n",
    "                print('{:2}'.format(value), end = '')\n",
    "        \n",
    "    # Returns 'other' player character\n",
    "    def other(self):\n",
    "        if self.player_at_this_level == self.player_1:\n",
    "            return self.player_2\n",
    "        if self.player_at_this_level == self.player_2:\n",
    "            return self.player_1\n"
   ]
  },
  {
   "cell_type": "code",
   "execution_count": null,
   "metadata": {},
   "outputs": [],
   "source": []
  },
  {
   "cell_type": "code",
   "execution_count": 3,
   "metadata": {},
   "outputs": [],
   "source": [
    "class SearchTreeNode:\n",
    "    def __init__(self, Current_Game = None, ply_depth = 0, max_depth = 4, comp_first=True):\n",
    "        self.children = [] # A list of SearchTreeNode. It it a list of all possible moves until given ply_depth\n",
    "        self.ply_depth = ply_depth\n",
    "        self.max_depth = max_depth\n",
    "        self.node_terminal = False # variable used in generate_children() and min_max() function\n",
    "        # TODO: node_trap - generate children until node_terminal when there is a node_trap\n",
    "        self.node_trap = False # variable that indicates if this node has a move_trap or not\n",
    "        self.node_value = None # assigned by MinMax\n",
    "        if Current_Game == None:\n",
    "            # Type CurrentBoard\n",
    "            self.game_at_this_node = CurrentBoard() # Starting point, player_1 starts as first\n",
    "        else:\n",
    "            self.game_at_this_node = Current_Game\n",
    "            \n",
    "        # Control who starts first. This variable is used to determine if it is a winning ar loosing situation\n",
    "        # comp_first works in tandem with CurrentBoard.count_move\n",
    "        self.comp_first = comp_first\n",
    "            \n",
    "        # Call generat_children\n",
    "        self.generate_children() # if win, loose or draw situation, assign True to the node_terminal\n",
    "        \n",
    "    # Generates SearchTreeNode of a given max_depth\n",
    "    # Generates all possible nodes for the game_at_this_node (type CurrentBoard)\n",
    "    # Terminal states: stop generating child node:\n",
    "    # - when there is win/lose situation - the value of game_at_this_node.win == True.\n",
    "    # - when there is draw situation - the value of game_at_this_node.count_move == 42 and there is no win/lose situation.\n",
    "    # - if the ply_depth is max_depth.\n",
    "    # Assigns node_value on terminal state:\n",
    "    # - node_value is equal to game_at_this_node.outcome if it is comp move\n",
    "    # - node value is equal to minus game_at_this_node.outcome if it is user move\n",
    "    # TODO - Restart ply_depth after choosing the next move, it means choosing the next CurrentBoard, in a game class\n",
    "    # REMEMBER: no need to check if it is max or min level when generating children, as an negativ outcome is return in min_max function.\n",
    "    def generate_children(self):\n",
    "        # the base case is when:\n",
    "        # - all_possble_moves_for() returns an empty list\n",
    "        # - or there is a winning situation\n",
    "        # - or ply_depth is greater than max_depth\n",
    "        # Winning move - you can not make a move and loose, you can either win or draw\n",
    "        ### TODO Do not miss out winning score -> will not, because at first the CurrentBoard.outcome checks win, lose, draw, next the eval\n",
    "        # checks win/lose/draw situation\n",
    "        if self.game_at_this_node.win or (self.game_at_this_node.count_move == 42):\n",
    "            self.node_terminal = True\n",
    "# TEST\n",
    "#                print('STN.generate_children(): ply_depth {}; isComp {}; node_value {} '.format(self.ply_depth, self.isCompMove(), self.node_value))\n",
    "#            else:\n",
    "#                self.node_value = -self.game_at_this_node.outcome\n",
    "# TEST\n",
    "#                print('STN.generate_children(): ply_depth {}; isComp {}; node_value {} '.format(self.ply_depth, self.isCompMove(), self.node_value))\n",
    "#            self.is_node_value_assigned = True\n",
    "            \n",
    "        # create new nodes\n",
    "        elif self.ply_depth < self.max_depth:\n",
    "            # get all possible moves at this stage\n",
    "            list_of_all_possible_moves = self.game_at_this_node.all_possible_moves_for() # size=7\n",
    "\n",
    "            # Check if board is symetric. \n",
    "            # If it is, assign None value to the left or right side of the list_of_all_possible_moves.\n",
    "            # Keep the size=7 -> assign None to the values that are symetric.\n",
    "            # TODO or take random from left or right side\n",
    "            if self.game_at_this_node.symetric_board():\n",
    "                list_of_all_possible_moves[4:] = None\n",
    "            \n",
    "            # loop through all_moves (type CurrentBoard), create child node as a SearchTreeNode type and appent it to the children list\n",
    "            for new_game in list_of_all_possible_moves:\n",
    "                if new_game != None:               \n",
    "                    self.children.append(SearchTreeNode(Current_Game=new_game, ply_depth=self.ply_depth + 1, max_depth=self.max_depth, comp_first=self.comp_first))\n",
    "    \n",
    "            # Optimization for min_max_alpha_beta algorithm. Enable better pruning. Move child that has better outcome to the left of a SearchTreeNode.\n",
    "            self.children = sorted(self.children, key=lambda x: x.game_at_this_node.outcome, reverse=True)\n",
    "\n",
    "            # TODO: From sorted children choose the first 4 to the next SearchNodeTree. Avoid unnecessary creation of not promising nodes\n",
    "    \n",
    "    \n",
    "    # Assigns a value to the node_value variable.\n",
    "    # Loop recursively over search tree node. BaseCase: leaf\n",
    "    def min_max(self, is_max=True):\n",
    "        # Check if it is a leaf. A length of children list of leaf is 0.\n",
    "        if self.isLeaf(): # BaseCase: if it is a leaf return the game outcome\n",
    "            if self.isCompMove():\n",
    "                self.node_value = self.game_at_this_node.outcome\n",
    "            else:\n",
    "                self.node_value = -self.game_at_this_node.outcome\n",
    "        else: # assign a max or min node_value from the children to the parent node_value\n",
    "            # Check if it is max or min layer\n",
    "            if is_max: # max - return the max node_value of children\n",
    "                self.node_value = -sys.maxsize\n",
    "                for child in self.children:\n",
    "                    # Assign values to the childrens' node_value\n",
    "                    child.min_max(is_max=False) # Call min_max() function recursively\n",
    "                    # get child.node_value and check the condition\n",
    "                    if child.node_value > self.node_value:\n",
    "                        self.node_value = child.node_value\n",
    "            else: # min - return the min node_value of children\n",
    "                self.node_value = sys.maxsize\n",
    "                for child in self.children:\n",
    "                    # Assign values to the childrens' node_value\n",
    "                    child.min_max(is_max=True) # Call min_max() function recursively                \n",
    "                    # get child.node_value and check the condition\n",
    "                    if child.node_value < self.node_value:\n",
    "                        self.node_value = child.node_value\n",
    "            \n",
    "    # Assigns a value to the node_value variable.\n",
    "    # Loop recursively over search tree node. BaseCase: leaf\n",
    "    def min_max_alpha_beta(self, is_max=True, alpha=-sys.maxsize, beta=sys.maxsize):\n",
    "        # Check if it is a leaf. A length of children list of leaf is 0.\n",
    "        if self.isLeaf(): # BaseCase: if it is a leaf return the game outcome\n",
    "            if self.isCompMove():\n",
    "                self.node_value = self.game_at_this_node.outcome\n",
    "            else:\n",
    "                self.node_value = -self.game_at_this_node.outcome\n",
    "        else:\n",
    "            # Check if it is max or min layer\n",
    "            if is_max: # max - return the max node_value of children\n",
    "                self.node_value = -sys.maxsize\n",
    "                for index, child in enumerate(self.children):\n",
    "                    # Assign values to the childrens' node_value\n",
    "                    child.min_max_alpha_beta(is_max=False, alpha=alpha, beta=beta) # Call min_max() function recursively\n",
    "                    # get child.node_value and check the condition\n",
    "                    if child.node_value > self.node_value:\n",
    "                        self.node_value = child.node_value\n",
    "                        # alpha beta pruning\n",
    "                        alpha = self.node_value\n",
    "                        if beta <= alpha:\n",
    "                            # Remove the rest of children from the list\n",
    "                            removed = self.children[index+1:]\n",
    "                            self.children = self.children[:index+1]\n",
    "#                            print('Prunned: alpha {}; beta {}; removed child {}'.format(alpha, beta, removed))\n",
    "                            break\n",
    "            else: # min - return the min node_value of children\n",
    "                self.node_value = sys.maxsize\n",
    "                for index, child in enumerate(self.children):\n",
    "                    # Assign values to the childrens' node_value\n",
    "                    child.min_max_alpha_beta(is_max=True, alpha=alpha, beta=beta) # Call min_max() function recursively                \n",
    "                    # get child.node_value and check the condition\n",
    "                    if child.node_value < self.node_value:\n",
    "                        self.node_value = child.node_value\n",
    "                        beta = self.node_value\n",
    "                        if beta <= alpha:\n",
    "                            # Remove the rest of children from the list\n",
    "                            removed = self.children[index+1:]\n",
    "                            self.children = self.children[:index+1]\n",
    "#                            print('Prunned: alpha {}; beta {}; removed child {}'.format(alpha, beta, removed))\n",
    "                            break\n",
    "\n",
    "        \n",
    "\n",
    "    # Returns the nodes (SearchTreeNode) from children list which outcome is equal to the value of node_value\n",
    "    # The outcome for children of min layer the value of node_value = -child.outcome\n",
    "    def get_all_next_moves(self):\n",
    "        next_moves = []\n",
    "        for child in self.children:\n",
    "            if child.node_value == self.node_value:\n",
    "                next_moves.append(child)\n",
    "        return next_moves\n",
    "    \n",
    "    # Reurns the best node (SearchTreeNode) from children as a next move\n",
    "    # TODO correct this function\n",
    "    def get_next_move(self):\n",
    "        next_moves = self.get_all_next_moves()\n",
    "        # TODO: return the random next move\n",
    "        return next_moves[0]\n",
    "        \n",
    "    \n",
    "    # Deepens the search tree\n",
    "    # depth can not be greater than max_depth\n",
    "    def dig_up(self, depth=None):\n",
    "        if depth == None:\n",
    "            depth = self.max_depth\n",
    "        # go to the leaf and generate children\n",
    "        # Do not generate children for win situation\n",
    "        # Do not generate children for trap. Generate children for trap once the game is in trap node.\n",
    "        # Trap node is is controled by self.node_trap\n",
    "        for child in self.children:\n",
    "            if not child.isLeaf() and not child.game_at_this_node.win:\n",
    "                child.dig_up(depth)\n",
    "            elif child.isLeaf() and not child.game_at_this_node.win:\n",
    "                child.ply_depth = child.max_depth - depth\n",
    "                child.generate_children()\n",
    "\n",
    "    # Return True if the node is a leaf (do not have children)\n",
    "    def isLeaf(self):\n",
    "        return len(self.children) == 0\n",
    "\n",
    "    \n",
    "# TODO: refactor the below methods. They are the same\n",
    "\n",
    "    # Return True if maximizer player, False if minimizer player.\n",
    "    def isMax(self):        \n",
    "        # count_move is taken from the CurrentBoard of a node\n",
    "        count_move = self.game_at_this_node.count_move\n",
    "        \n",
    "        if self.comp_first:\n",
    "            return (count_move%2 == 0)\n",
    "        else:\n",
    "            return (count_move%2 == 1)\n",
    "\n",
    "    \n",
    "    # Helper function for generate_children(), min_max() and min_max_alpha_beta()\n",
    "    # Return True if it is a comp move at this level, False if it is user move.\n",
    "    # If comp starts as first, the comp move is on odd count_move\n",
    "    # If comp start as second, the comp move is on even count_move\n",
    "    def isCompMove(self): # computer\n",
    "        # count_move is taken from the CurrentBoard of a node\n",
    "        count_move = self.game_at_this_node.count_move\n",
    "        \n",
    "        if self.comp_first:\n",
    "            return (count_move%2 == 1)\n",
    "        else:\n",
    "            return (count_move%2 == 0)\n",
    "        \n",
    "    # Helper function for min_max() and min_max_alpha_beta()\n",
    "    # Return True if maximizer player, False if minimizer player.\n",
    "    # The maximizer tries to get the highest score possible while the minimizer tries to do the opposite and get the lowest score possible.\n",
    "    def isMaximizer(self):\n",
    "        return not self.isCompMove()\n",
    "\n",
    "\n",
    "            \n",
    "    # Returns random SearchTreeNode from children if there are more than one child with equal node_value\n",
    "    # TODO test this method\n",
    "    def select_child(self):\n",
    "        # list of indices from children[] for which the child have equal node_value\n",
    "        indices = []\n",
    "        # Loop over the list of children to select all child indices having equal node_value\n",
    "        for index, child in enumerate(self.children):\n",
    "            if child.node_value == self.next_move.node_value:\n",
    "                indices.append(index)\n",
    "        # select random index from the list of child with equal node_value\n",
    "        # return child with the given index\n",
    "        return self.children[choice(indices)]\n",
    "\n",
    "    # Returns the list of size 7 containing all possible moves for a CurrentBoard.\n",
    "    # Returns indices of all possible moves at this level.\n",
    "    # If there is no more availabel moves for a given column, the corresponding value for that column in the list is None\n",
    "    # TODO test it\n",
    "    def all_possible_indices(self):\n",
    "        # Initialize list of None of size 7\n",
    "        temp_array = [None for i in range(7)] # List Comprehensions\n",
    "        board = self.game_at_this_node.board\n",
    "        for i, v in enumerate(temp_array):\n",
    "            # TODO make it as a loop / if condition\n",
    "            for row in range(6):\n",
    "                if board[i+7*row] == 0:\n",
    "                    temp_array[i] = i+7*row\n",
    "                    break\n",
    "        return temp_array\n",
    "\n",
    "    # The helper method to test if alpa-beta pruning works\n",
    "    # Returns the size of Tree - 1\n",
    "    # TODO add 1 to the root node (add root node)\n",
    "    def tree_size(self):\n",
    "        size = 0\n",
    "        if not self.isLeaf():\n",
    "            for child in self.children:\n",
    "                size += child.tree_size()\n",
    "        \n",
    "        size += len(self.children)\n",
    "        return size\n",
    "        \n"
   ]
  },
  {
   "cell_type": "code",
   "execution_count": 4,
   "metadata": {},
   "outputs": [],
   "source": [
    "# Game Runner\n",
    "# 'X' has first move\n",
    "class Runner:\n",
    "    def __init__(self, max_depth=3):\n",
    "        self.user_name = 'Adam'\n",
    "        self.player_1 = 1 # starts first\n",
    "        self.player_2 = 2\n",
    "        self.comp_first = True # boolean\n",
    "        self.game_search_tree_node = None # type SearchTreeNode\n",
    "        self.current_board = None # type CurrentBoard\n",
    "        self.result = None # possible results: 'w' - win, 'l' - loss, 'd' - draw\n",
    "        \n",
    "        self.user_char = None\n",
    "        self.comp_char = None\n",
    "        \n",
    "        self.max_depth = max_depth\n",
    "        \n",
    "    def run(self):\n",
    "        self.set_up_game()\n",
    "        self.first_move()\n",
    "        self.loop_game()\n",
    "        self.end_game()\n",
    "    \n",
    "    # Set up user_name, user_char, comp_first (user name, character user plays, if the comp has first move)\n",
    "    def set_up_game(self):\n",
    "        self.user_name = input('Hello, insert your name')\n",
    "        self.comp_first = (input('Would you like to start Y/N').upper() != 'Y')\n",
    "        \n",
    "        if self.comp_first:\n",
    "            self.comp_char = self.player_1\n",
    "            self.user_char = self.player_2\n",
    "        else:\n",
    "            self.comp_char = self.player_2\n",
    "            self.user_char = self.player_1\n",
    "    \n",
    "    # Set up initial current_board, game_search_tree_node depending on user_first (who has first move - user or computer)\n",
    "    def first_move(self):\n",
    "        # Avoid running unnecessary SearchTreeNode (very computing expensive). If user moves as first, take user input and create CurrentBoard with this move. Next create SearchTreeNode\n",
    "        \n",
    "        # Set up CurrentBoard for first computer move, but first or second move in the game\n",
    "        if self.comp_first: # Computer starts first\n",
    "            self.current_board = CurrentBoard() # use default CurrentBoard\n",
    "        else: # User starts first\n",
    "            # Display empty board\n",
    "            self.current_board = CurrentBoard(setup_of_board=np.zeros(42, dtype=int), count_move=0, index=-1, player_at_this_level=self.player_2)\n",
    "            self.current_board.display_game_board()\n",
    "            # initialize game_search_tree_node with max_depth=0. The game_search_tree_node is needed for validate_input()\n",
    "            self.game_search_tree_node = SearchTreeNode(Current_Game=self.current_board, ply_depth = 0, max_depth=0, comp_first=self.comp_first)\n",
    "            \n",
    "            print('{}, Your move. Choose column by inserting the number from 1 to 7. Do not use the column if it is full>'.format(self.user_name))\n",
    "            user_choice = self.validate_input() # get user input\n",
    "            next_board = self.current_board.board # cache board (numpy array)\n",
    "            next_board[user_choice] = self.user_char # update board\n",
    "            # Create CurrentBoard from next_board and cache it\n",
    "            self.current_board = CurrentBoard(setup_of_board=next_board, count_move=(self.current_board.count_move + 1), index=user_choice, player_at_this_level=self.user_char)\n",
    "            \n",
    "            # Display current board for user\n",
    "            print('Board after User move is:')\n",
    "            self.current_board.display_game_board()\n",
    "            # TEST\n",
    "            print('In a first_move method. User Move (user first) - count_move: {}; outcome is: {}; comp_char: {}, comp_first {}, user_char: {} '.format(self.current_board.count_move, self.current_board.outcome, self.comp_char, self.comp_first, self.user_char))\n",
    "\n",
    "            # TODO to make the game more intresting if user start first with the optimal move, chose the random comp move\n",
    "            # next User choses his move, next generate game_search_tree_node\n",
    "            \n",
    "            \n",
    "        # Create SearchTreeNode and assign it to self.game_search_tree_node\n",
    "        # TODO: bug with the dig_up(): it doesn't give the optimal first move \n",
    "        self.game_search_tree_node = SearchTreeNode(Current_Game=self.current_board, ply_depth = 0, max_depth = self.max_depth, comp_first=self.comp_first)\n",
    "        # Call min_max function\n",
    "        \n",
    "# Standard MinMax function\n",
    "#        self.game_search_tree_node.min_max(is_max=self.game_search_tree_node.isMax())\n",
    "\n",
    "        self.game_search_tree_node.min_max_alpha_beta(is_max=self.game_search_tree_node.isMax())\n",
    "        # Call dig_up()\n",
    "        self.game_search_tree_node.dig_up(depth=2) # 2 is fast and gives optimal first move\n",
    "        # Call min_max function\n",
    "        self.game_search_tree_node.min_max_alpha_beta(is_max=self.game_search_tree_node.isMax())\n",
    "    \n",
    "\n",
    "    # Run game in a loop until it is resolved.\n",
    "    # Follow the sequnce: comp move -> checking result -> displaying board after computer move to the user -> \n",
    "    # -> user move -> checking result ->  displaying board after user move\n",
    "    def loop_game(self):\n",
    "        run = True\n",
    "        while run:\n",
    "            # COMPUTER MOVE\n",
    "            self.game_search_tree_node = self.game_search_tree_node.get_next_move()\n",
    "            \n",
    "            # Cache current_board -> the best computer move\n",
    "            self.current_board = self.game_search_tree_node.game_at_this_node\n",
    "\n",
    "            # TODO: remove it -> prints for testing purpose\n",
    "            print('In a loop_game method. Computer Move - count_move: {}; outcome is: {}; comp_char: {}, '.format(self.current_board.count_move, self.current_board.outcome, self.comp_char))\n",
    "\n",
    "            # Check draw\n",
    "            if self.current_board.count_move == 42 and not self.current_board.win:\n",
    "                self.result = 'draw'\n",
    "                break;\n",
    "\n",
    "            # Check win situation\n",
    "            if self.current_board.win:\n",
    "                run = False\n",
    "                self.result = 'comp won'\n",
    "                break;\n",
    "\n",
    "            # Display board after computer move\n",
    "            print('Board after computer move is:')\n",
    "            self.current_board.display_game_board()\n",
    "            \n",
    "            # USER MOVE\n",
    "            # Create next_board based on board of the current_board\n",
    "            print('{}, it is your turn. Choose column >> '.format(self.user_name))\n",
    "            user_choice = self.validate_input() # get user input\n",
    "            next_board = self.current_board.board # cache board (numpy array)\n",
    "            next_board[user_choice] = self.user_char # update board\n",
    "            \n",
    "            # Search children that has equal board as the choosen by the User and reassign SearchTreeNode with the current one in game_search_tree_node\n",
    "#            node_exist = False # variable to store if child node exist so the parent node may be replaced\n",
    "#            for child in self.game_search_tree_node.children:\n",
    "#                if np.array_equal(child.game_at_this_node.board, next_board):\n",
    "#                    self.game_search_tree_node = child # Replace game_search_tree_node with existing child node\n",
    "#                    node_exist = True\n",
    "#                    break\n",
    "            \n",
    "            # TODO test eficiency nad correctness. Is it enough to refresh search_tree_node every second loop? \n",
    "            # Create new search_tree_node if the chosen no by the user doesn't exist or every second loop (refresh the search_tree_node)\n",
    "#            if (not node_exist) or (counter > 1):\n",
    "                # Create CurrentBoard from next_board\n",
    "#                next_game = CurrentBoard(setup_of_board=next_board, count_move=(self.current_board.count_move + 1), index=user_move, player_at_this_level=self.user_char)\n",
    "                # Create SearchTreeNode and assign it to self.game_search_tree_node\n",
    "#                self.game_search_tree_node = SearchTreeNode(Current_Game=next_game, ply_depth = 0, max_depth=self.max_depth, comp_first=self.comp_first)\n",
    "                # Call min_max function\n",
    "#                self.game_search_tree_node.min_max_alpha_beta(is_max=self.game_search_tree_node.isMax())\n",
    "                # Call dig_up()\n",
    "#                self.game_search_tree_node.dig_up(depth=self.max_depth-1)\n",
    "                # Call min_max function\n",
    "#                self.game_search_tree_node.min_max_alpha_beta(is_max=self.game_search_tree_node.isMax())\n",
    "#                counter = 0 # reset counter\n",
    "\n",
    "            # Create CurrentBoard from next_board and cache it\n",
    "            self.current_board = CurrentBoard(setup_of_board=next_board, count_move=(self.current_board.count_move + 1), index=user_choice, player_at_this_level=self.user_char)\n",
    "\n",
    "            # Optimization: change the value of self.max_depth. Search deeper every 14 move\n",
    "            if self.current_board.count_move%14 == 0:\n",
    "                self.max_depth += 1\n",
    "            \n",
    "            # Create SearchTreeNode and assign it to self.game_search_tree_node\n",
    "            self.game_search_tree_node = SearchTreeNode(Current_Game=self.current_board, ply_depth = 0, max_depth=self.max_depth, comp_first=self.comp_first)\n",
    "            # Call min_max function\n",
    "            self.game_search_tree_node.min_max_alpha_beta(is_max=self.game_search_tree_node.isMax())\n",
    "            # Call dig_up()\n",
    "            self.game_search_tree_node.dig_up(depth=self.max_depth) # TODO test even and odd deep\n",
    "            # Call min_max function\n",
    "            self.game_search_tree_node.min_max_alpha_beta(is_max=self.game_search_tree_node.isMax())\n",
    "                                \n",
    "            # check draw\n",
    "            if self.current_board.count_move == 42 and not self.current_board.win:\n",
    "                self.result = 'draw'\n",
    "                break;\n",
    "\n",
    "            # Check win situation\n",
    "            if self.current_board.win:\n",
    "                run = False\n",
    "                self.result = 'user won'\n",
    "                break;\n",
    "\n",
    "            # TODO: remove it -> prints for testing purpose\n",
    "            print('User Move - count_move: {}; outcome is: {}; comp_char: {}, player_at_this_level {}'.format(self.current_board.count_move, self.current_board.outcome, self.comp_char, self.current_board.player_at_this_level))\n",
    "                \n",
    "            # Display current board for user\n",
    "            print('Board after User move is:')\n",
    "            self.current_board.display_game_board()\n",
    "\n",
    "    # TODO: correct code\n",
    "    # Display final result\n",
    "    def end_game(self):\n",
    "        print(\"Game over\")\n",
    "        self.game_search_tree_node.game_at_this_node.display_game_board()\n",
    "        if self.result == 'user won':\n",
    "            print(self.user_name, ', congratulations, you have won')\n",
    "        elif self.result == 'comp won':\n",
    "            print(self.user_name, ', you have lost')\n",
    "        elif self.result == 'draw':\n",
    "            print(self.user_name, ', it is draw')\n",
    "        else:\n",
    "            print(self.user_name, ', it is a BUG!!!!')\n",
    "            \n",
    "\n",
    "    # Returns a valid index from the CurrentBoard.board array after User input validation.\n",
    "    # User can choice the number from 1 to 7 inclusive. Numbers from 1 to 7 represent the columns' numbers.\n",
    "    # Hence, the valid number is from 1 to 7, excluding the full columns.\n",
    "    def validate_input(self):\n",
    "        user_choice = None\n",
    "        # get the list of all possible moves, size=7. The list contains None if the column is full or the board index\n",
    "        all_possible_indices = self.game_search_tree_node.all_possible_indices()\n",
    "        # run loop until the input is valid\n",
    "        run = True\n",
    "        while(run):\n",
    "            try:\n",
    "                user_choice = int(input()) - 1 # shift left by 1, as arrays starts from 0\n",
    "                if (user_choice < 0) or (user_choice > 6):\n",
    "                    print('The input must be between 1 and 7 >>')\n",
    "                elif all_possible_indices[user_choice] == None:\n",
    "                    print('No more moves for the choosen column. Choose other one >>')\n",
    "                else:\n",
    "                    run = False\n",
    "            except ValueError:\n",
    "                print(\"The input is not a number. It's a string\")\n",
    "        return all_possible_indices[user_choice]\n"
   ]
  },
  {
   "cell_type": "code",
   "execution_count": null,
   "metadata": {},
   "outputs": [],
   "source": []
  },
  {
   "cell_type": "markdown",
   "metadata": {},
   "source": [
    "# TESTS"
   ]
  },
  {
   "cell_type": "markdown",
   "metadata": {},
   "source": [
    "# TEST CURRENTBOARD CLASS"
   ]
  },
  {
   "cell_type": "markdown",
   "metadata": {},
   "source": [
    "## Tests:\n",
    "- create CurrentBoard object\n",
    "- display()\n",
    "- display_game_board()"
   ]
  },
  {
   "cell_type": "markdown",
   "metadata": {},
   "source": [
    "### Test 1) default CurrentBoard"
   ]
  },
  {
   "cell_type": "code",
   "execution_count": 5,
   "metadata": {},
   "outputs": [
    {
     "data": {
      "text/plain": [
       "{'board': array([0, 0, 0, 0, 0, 0, 0, 0, 0, 0, 0, 0, 0, 0, 0, 0, 0, 0, 0, 0, 0, 0,\n",
       "        0, 0, 0, 0, 0, 0, 0, 0, 0, 0, 0, 0, 0, 0, 0, 0, 0, 0, 0, 0]),\n",
       " 'board_width': 7,\n",
       " 'board_height': 6,\n",
       " 'board_total': 42,\n",
       " 'count_move': 0,\n",
       " 'index': -1,\n",
       " 'player_at_this_level': 2,\n",
       " 'winning_positions_1': 69,\n",
       " 'winning_positions_2': 69,\n",
       " 'player_1': 1,\n",
       " 'player_2': 2,\n",
       " 'win': False,\n",
       " 'draw': 0,\n",
       " 'outcome': 0}"
      ]
     },
     "execution_count": 5,
     "metadata": {},
     "output_type": "execute_result"
    }
   ],
   "source": [
    "# Expected: \n",
    "#'board': array([0, 0, 0, 0, 0, 0, 0, 0, 0, 0, 0, 0, 0, 0, 0, 0, 0, 0, 0, 0, 0, 0, 0, 0, 0, 0, 0, 0, 0, 0, 0, 0, 0, 0, 0, 0, 0, 0, 0, 0, 0, 0]),\n",
    "# 'count_move': 0,\n",
    "# 'index': -1,\n",
    "# 'player_at_this_level': 2,\n",
    "# 'player_1': 1,\n",
    "# 'player_2': 2,\n",
    "# 'win': False,\n",
    "# 'outcome': 0\n",
    "\n",
    "cb = CurrentBoard()\n",
    "vars(cb)"
   ]
  },
  {
   "cell_type": "code",
   "execution_count": 6,
   "metadata": {},
   "outputs": [
    {
     "name": "stdout",
     "output_type": "stream",
     "text": [
      "| 0| 0| 0| 0| 0| 0| 0|\n",
      "----------------------\n",
      "| 0| 0| 0| 0| 0| 0| 0|\n",
      "----------------------\n",
      "| 0| 0| 0| 0| 0| 0| 0|\n",
      "----------------------\n",
      "| 0| 0| 0| 0| 0| 0| 0|\n",
      "----------------------\n",
      "| 0| 0| 0| 0| 0| 0| 0|\n",
      "----------------------\n",
      "| 0| 0| 0| 0| 0| 0| 0|\n",
      "----------------------\n"
     ]
    }
   ],
   "source": [
    "cb.display()"
   ]
  },
  {
   "cell_type": "code",
   "execution_count": 7,
   "metadata": {},
   "outputs": [
    {
     "name": "stdout",
     "output_type": "stream",
     "text": [
      "| 1| 2| 3| 4| 5| 6| 7|\n",
      "======================\n",
      "|  |  |  |  |  |  |  |\n",
      "----------------------\n",
      "|  |  |  |  |  |  |  |\n",
      "----------------------\n",
      "|  |  |  |  |  |  |  |\n",
      "----------------------\n",
      "|  |  |  |  |  |  |  |\n",
      "----------------------\n",
      "|  |  |  |  |  |  |  |\n",
      "----------------------\n",
      "|  |  |  |  |  |  |  |\n",
      "----------------------\n"
     ]
    }
   ],
   "source": [
    "cb.display_game_board()"
   ]
  },
  {
   "cell_type": "markdown",
   "metadata": {},
   "source": [
    "### Test 2) board of containing sample 1 na 2 values"
   ]
  },
  {
   "cell_type": "code",
   "execution_count": 8,
   "metadata": {},
   "outputs": [
    {
     "data": {
      "text/plain": [
       "{'board': array([1, 1, 2, 1, 1, 2, 1, 1, 0, 1, 1, 1, 1, 0, 1, 0, 0, 1, 1, 0, 0, 1,\n",
       "        0, 0, 1, 1, 0, 0, 0, 0, 0, 0, 0, 0, 0, 0, 0, 0, 0, 0, 0, 0]),\n",
       " 'board_width': 7,\n",
       " 'board_height': 6,\n",
       " 'board_total': 42,\n",
       " 'count_move': 18,\n",
       " 'index': 21,\n",
       " 'player_at_this_level': 1,\n",
       " 'winning_positions_1': 69,\n",
       " 'winning_positions_2': 69,\n",
       " 'player_1': 1,\n",
       " 'player_2': 2,\n",
       " 'win': True,\n",
       " 'draw': 0,\n",
       " 'outcome': 9223372036854775807}"
      ]
     },
     "execution_count": 8,
     "metadata": {},
     "output_type": "execute_result"
    }
   ],
   "source": [
    "board=np.array([1, 1, 2, 1, 1, 2, 1,\n",
    "                1, 0, 1, 1, 1, 1, 0,\n",
    "                1, 0, 0, 1, 1, 0, 0,\n",
    "                1, 0, 0, 1, 1, 0, 0,\n",
    "                0, 0, 0, 0, 0, 0, 0,\n",
    "                0, 0, 0, 0, 0, 0, 0], dtype=int)\n",
    "cb = CurrentBoard(setup_of_board=board, count_move=18, index=21, player_at_this_level=1)\n",
    "vars(cb)"
   ]
  },
  {
   "cell_type": "code",
   "execution_count": 9,
   "metadata": {},
   "outputs": [
    {
     "name": "stdout",
     "output_type": "stream",
     "text": [
      "| 0| 0| 0| 0| 0| 0| 0|\n",
      "----------------------\n",
      "| 0| 0| 0| 0| 0| 0| 0|\n",
      "----------------------\n",
      "| 1| 0| 0| 1| 1| 0| 0|\n",
      "----------------------\n",
      "| 1| 0| 0| 1| 1| 0| 0|\n",
      "----------------------\n",
      "| 1| 0| 1| 1| 1| 1| 0|\n",
      "----------------------\n",
      "| 1| 1| 2| 1| 1| 2| 1|\n",
      "----------------------\n"
     ]
    }
   ],
   "source": [
    "cb.display()"
   ]
  },
  {
   "cell_type": "code",
   "execution_count": 10,
   "metadata": {},
   "outputs": [
    {
     "name": "stdout",
     "output_type": "stream",
     "text": [
      "| 1| 2| 3| 4| 5| 6| 7|\n",
      "======================\n",
      "|  |  |  |  |  |  |  |\n",
      "----------------------\n",
      "|  |  |  |  |  |  |  |\n",
      "----------------------\n",
      "| 1|  |  | 1| 1|  |  |\n",
      "----------------------\n",
      "| 1|  |  | 1| 1|  |  |\n",
      "----------------------\n",
      "| 1|  | 1| 1| 1| 1|  |\n",
      "----------------------\n",
      "| 1| 1| 2| 1| 1| 2| 1|\n",
      "----------------------\n"
     ]
    }
   ],
   "source": [
    "cb.display_game_board()"
   ]
  },
  {
   "cell_type": "markdown",
   "metadata": {},
   "source": [
    "## Test all_possible_moves_for()"
   ]
  },
  {
   "cell_type": "markdown",
   "metadata": {},
   "source": [
    "### Test 1) default CurrentBoard"
   ]
  },
  {
   "cell_type": "code",
   "execution_count": 11,
   "metadata": {},
   "outputs": [
    {
     "data": {
      "text/plain": [
       "array([<__main__.CurrentBoard object at 0x0000022AD9B44A58>,\n",
       "       <__main__.CurrentBoard object at 0x0000022AD9BA7908>,\n",
       "       <__main__.CurrentBoard object at 0x0000022AD9BA7048>,\n",
       "       <__main__.CurrentBoard object at 0x0000022AD9BA7A58>,\n",
       "       <__main__.CurrentBoard object at 0x0000022AD9BA7080>,\n",
       "       <__main__.CurrentBoard object at 0x0000022AD9BA75F8>,\n",
       "       <__main__.CurrentBoard object at 0x0000022AD9BA75C0>], dtype=object)"
      ]
     },
     "execution_count": 11,
     "metadata": {},
     "output_type": "execute_result"
    }
   ],
   "source": [
    "# Expected: returns a list of all possible moves. Should be 7 object of CurrentBoard\n",
    "\n",
    "cb = CurrentBoard()\n",
    "all_moves = cb.all_possible_moves_for()\n",
    "all_moves"
   ]
  },
  {
   "cell_type": "code",
   "execution_count": 12,
   "metadata": {},
   "outputs": [
    {
     "name": "stdout",
     "output_type": "stream",
     "text": [
      "| 1| 2| 3| 4| 5| 6| 7|\n",
      "======================\n",
      "|  |  |  |  |  |  |  |\n",
      "----------------------\n",
      "|  |  |  |  |  |  |  |\n",
      "----------------------\n",
      "|  |  |  |  |  |  |  |\n",
      "----------------------\n",
      "|  |  |  |  |  |  |  |\n",
      "----------------------\n",
      "|  |  |  |  |  |  |  |\n",
      "----------------------\n",
      "| 1|  |  |  |  |  |  |\n",
      "----------------------\n"
     ]
    }
   ],
   "source": [
    "# Expected: a board with move done by player_1 - value 1 in one of the field\n",
    "cb.all_possible_moves_for()[0].display_game_board()"
   ]
  },
  {
   "cell_type": "code",
   "execution_count": 13,
   "metadata": {},
   "outputs": [
    {
     "name": "stdout",
     "output_type": "stream",
     "text": [
      "0 1 2 3 4 5 6 "
     ]
    }
   ],
   "source": [
    "# Test index property in the list of all_moves.\n",
    "# Expected: 0 1 2 3 4 5 6\n",
    "for move in all_moves:\n",
    "    if move != None:\n",
    "        print(move.index, end=(' '))"
   ]
  },
  {
   "cell_type": "markdown",
   "metadata": {},
   "source": [
    "### Test 2) columns filled up on different level"
   ]
  },
  {
   "cell_type": "code",
   "execution_count": 14,
   "metadata": {},
   "outputs": [
    {
     "name": "stdout",
     "output_type": "stream",
     "text": [
      "| 1| 2| 3| 4| 5| 6| 7|\n",
      "======================\n",
      "| 2|  |  |  |  |  |  |\n",
      "----------------------\n",
      "| 1|  |  |  |  |  |  |\n",
      "----------------------\n",
      "| 2|  |  | 1| 1|  |  |\n",
      "----------------------\n",
      "| 1|  |  | 1| 1|  |  |\n",
      "----------------------\n",
      "| 1|  | 1| 1| 1| 1|  |\n",
      "----------------------\n",
      "| 1|  | 2| 1| 1| 2| 1|\n",
      "----------------------\n"
     ]
    }
   ],
   "source": [
    "board=np.array([1, 0, 2, 1, 1, 2, 1,\n",
    "                1, 0, 1, 1, 1, 1, 0,\n",
    "                1, 0, 0, 1, 1, 0, 0,\n",
    "                2, 0, 0, 1, 1, 0, 0,\n",
    "                1, 0, 0, 0, 0, 0, 0,\n",
    "                2, 0, 0, 0, 0, 0, 0], dtype=int)\n",
    "cb = CurrentBoard(setup_of_board=board, count_move=18, index=21, player_at_this_level=1)\n",
    "cb.display_game_board()"
   ]
  },
  {
   "cell_type": "code",
   "execution_count": 15,
   "metadata": {},
   "outputs": [
    {
     "data": {
      "text/plain": [
       "array([None, <__main__.CurrentBoard object at 0x0000022AD9BA7358>,\n",
       "       <__main__.CurrentBoard object at 0x0000022AD9BA77F0>,\n",
       "       <__main__.CurrentBoard object at 0x0000022AD9BA7C50>,\n",
       "       <__main__.CurrentBoard object at 0x0000022AD9BA7C88>,\n",
       "       <__main__.CurrentBoard object at 0x0000022AD9BA7B70>,\n",
       "       <__main__.CurrentBoard object at 0x0000022AD9BA7668>], dtype=object)"
      ]
     },
     "execution_count": 15,
     "metadata": {},
     "output_type": "execute_result"
    }
   ],
   "source": [
    "# Expected: None, CurrentBoard, CurrentBoard, CurrentBoard, CurrentBoard, CurrentBoard, CurrentBoard\n",
    "all_moves = cb.all_possible_moves_for()\n",
    "all_moves"
   ]
  },
  {
   "cell_type": "code",
   "execution_count": 16,
   "metadata": {},
   "outputs": [
    {
     "name": "stdout",
     "output_type": "stream",
     "text": [
      "1 16 31 32 19 13 "
     ]
    }
   ],
   "source": [
    "# Expected: 1 16 31 32 19 13 \n",
    "\n",
    "all_moves = cb.all_possible_moves_for()\n",
    "for move in all_moves:\n",
    "    if move != None:\n",
    "        print(move.index, end=(' '))"
   ]
  },
  {
   "cell_type": "markdown",
   "metadata": {},
   "source": [
    "## Test equal_at(self, start_index, next_index)"
   ]
  },
  {
   "cell_type": "code",
   "execution_count": 17,
   "metadata": {},
   "outputs": [
    {
     "name": "stdout",
     "output_type": "stream",
     "text": [
      "| 1| 2| 3| 4| 5| 6| 7|\n",
      "======================\n",
      "|  |  |  |  |  |  |  |\n",
      "----------------------\n",
      "|  |  |  |  |  |  |  |\n",
      "----------------------\n",
      "|  |  |  |  |  |  |  |\n",
      "----------------------\n",
      "|  |  |  |  |  |  |  |\n",
      "----------------------\n",
      "| 1|  | 1|  |  |  |  |\n",
      "----------------------\n",
      "| 1| 1| 2| 2|  |  | 1|\n",
      "----------------------\n",
      "Parameter: 0 - value: True\n",
      "Parameter: 1 - value: False\n",
      "Parameter: 2 - value: True\n",
      "Parameter: 3 - value: False\n",
      "Parameter: 4 - value: True\n",
      "Parameter: 5 - value: False\n",
      "Parameter: 6 - value: True\n"
     ]
    }
   ],
   "source": [
    "# test parameters: for 0, 1, 2, 3, 4, 5, 6\n",
    "# Expected: - 0, 2, 4, 6 result is False; 1, 3, 5 result is True\n",
    "\n",
    "board = np.array([ 1, 1, 2, 2, 0, 0, 1,\n",
    "                     1, 0, 1, 0, 0, 0, 0,\n",
    "                     0, 0, 0, 0, 0, 0, 0,\n",
    "                     0, 0, 0, 0, 0, 0, 0,\n",
    "                     0, 0, 0, 0, 0, 0, 0,\n",
    "                     0, 0, 0, 0, 0, 0, 0], dtype=int)\n",
    "cb = CurrentBoard(board)\n",
    "cb.display_game_board()\n",
    "for i in [0, 1, 2, 3, 4, 5, 6]:\n",
    "    print('Parameter: {} - value: {}'.format(i, cb.equal_at(i, i + 1)))"
   ]
  },
  {
   "cell_type": "markdown",
   "metadata": {},
   "source": [
    "## Test count_from(self, start_index, increment)"
   ]
  },
  {
   "cell_type": "markdown",
   "metadata": {},
   "source": [
    "### Test count_from() - horizontally"
   ]
  },
  {
   "cell_type": "code",
   "execution_count": 18,
   "metadata": {
    "scrolled": true
   },
   "outputs": [
    {
     "name": "stdout",
     "output_type": "stream",
     "text": [
      "| 1| 2| 3| 4| 5| 6| 7|\n",
      "======================\n",
      "|  |  |  |  |  |  |  |\n",
      "----------------------\n",
      "|  |  |  |  |  |  |  |\n",
      "----------------------\n",
      "|  |  |  |  |  |  |  |\n",
      "----------------------\n",
      "|  |  |  |  |  |  |  |\n",
      "----------------------\n",
      "| 2| 2|  |  |  |  |  |\n",
      "----------------------\n",
      "| 1| 1| 1| 1|  | 2| 2|\n",
      "----------------------\n",
      "Test with positive argument for increment\n",
      "Parameter: 0 - value: 4\n",
      "Parameter: 1 - value: 3\n",
      "Parameter: 2 - value: 2\n",
      "Parameter: 3 - value: 1\n",
      "Parameter: 5 - value: 2\n",
      "Test with negative argument for increment\n",
      "Parameter: 0 - value: 1\n",
      "Parameter: 1 - value: 2\n",
      "Parameter: 2 - value: 3\n",
      "Parameter: 3 - value: 4\n",
      "Parameter: 8 - value: 2\n"
     ]
    }
   ],
   "source": [
    "board = np.array([ 1, 1, 1, 1, 0, 2, 2,\n",
    "                   2, 2, 0, 0, 0, 0, 0,\n",
    "                   0, 0, 0, 0, 0, 0, 0,\n",
    "                   0, 0, 0, 0, 0, 0, 0,\n",
    "                   0, 0, 0, 0, 0, 0, 0,\n",
    "                   0, 0, 0, 0, 0, 0, 0], dtype=int)\n",
    "cb = CurrentBoard(board)\n",
    "cb.display_game_board()\n",
    "# Expected: \n",
    "# 0 result is 4\n",
    "# 1 result is 3\n",
    "# 2 result is 2\n",
    "# 3 result is 1\n",
    "# 5 result is 2 # test edge\n",
    "print('Test with positive argument for increment')\n",
    "for i in [0, 1, 2, 3, 5]:\n",
    "    print('Parameter: {} - value: {}'.format(i, cb.count_from(i, increment=1)))\n",
    "    \n",
    "print('Test with negative argument for increment')\n",
    "# Expected: \n",
    "# 0 result is 1\n",
    "# 1 result is 2\n",
    "# 2 result is 3\n",
    "# 3 result is 4\n",
    "# 8 result is 2 # test edge\n",
    "for i in [0, 1, 2, 3, 8]:\n",
    "    print('Parameter: {} - value: {}'.format(i, cb.count_from(i, increment=-1)))"
   ]
  },
  {
   "cell_type": "markdown",
   "metadata": {},
   "source": [
    "### Test count_from() - verticaly"
   ]
  },
  {
   "cell_type": "code",
   "execution_count": 19,
   "metadata": {
    "scrolled": true
   },
   "outputs": [
    {
     "name": "stdout",
     "output_type": "stream",
     "text": [
      "| 1| 2| 3| 4| 5| 6| 7|\n",
      "======================\n",
      "|  |  |  |  |  |  |  |\n",
      "----------------------\n",
      "|  |  |  |  |  |  |  |\n",
      "----------------------\n",
      "|  |  |  |  |  |  | 2|\n",
      "----------------------\n",
      "|  |  |  |  |  |  | 2|\n",
      "----------------------\n",
      "|  |  |  |  |  |  | 2|\n",
      "----------------------\n",
      "|  |  |  |  |  |  | 2|\n",
      "----------------------\n",
      "Test with positive argument for increment by 7\n",
      "Parameter: 6 - value: 4\n",
      "Parameter: 13 - value: 3\n",
      "Parameter: 20 - value: 2\n",
      "Parameter: 27 - value: 1\n",
      "Test with negative argument for increment by -7 - decrement\n",
      "Parameter: 6 - value: 1\n",
      "Parameter: 13 - value: 2\n",
      "Parameter: 20 - value: 3\n",
      "Parameter: 27 - value: 4\n"
     ]
    }
   ],
   "source": [
    "board = np.array([ 0, 0, 0, 0, 0, 0, 2,\n",
    "                   0, 0, 0, 0, 0, 0, 2,\n",
    "                   0, 0, 0, 0, 0, 0, 2,\n",
    "                   0, 0, 0, 0, 0, 0, 2,\n",
    "                   0, 0, 0, 0, 0, 0, 0,\n",
    "                   0, 0, 0, 0, 0, 0, 0], dtype=int)\n",
    "cb = CurrentBoard(board)\n",
    "cb.display_game_board()\n",
    "# Expected: \n",
    "# 6 result is 4\n",
    "# 13 result is 3\n",
    "# 20 result is 2\n",
    "# 27 result is 1\n",
    "print('Test with positive argument for increment by 7')\n",
    "for i in [6, 13, 20, 27]:\n",
    "    print('Parameter: {} - value: {}'.format(i, cb.count_from(i, increment=7)))\n",
    "    \n",
    "print('Test with negative argument for increment by -7 - decrement')\n",
    "# Expected: \n",
    "# 6 result is 1\n",
    "# 13 result is 2\n",
    "# 20 result is 3\n",
    "# 27 result is 4\n",
    "for i in [6, 13, 20, 27]:\n",
    "    print('Parameter: {} - value: {}'.format(i, cb.count_from(i, increment=-7)))"
   ]
  },
  {
   "cell_type": "markdown",
   "metadata": {},
   "source": [
    "### Test count_from() - diagonal right up"
   ]
  },
  {
   "cell_type": "code",
   "execution_count": 20,
   "metadata": {
    "scrolled": false
   },
   "outputs": [
    {
     "name": "stdout",
     "output_type": "stream",
     "text": [
      "| 1| 2| 3| 4| 5| 6| 7|\n",
      "======================\n",
      "|  |  |  |  |  |  |  |\n",
      "----------------------\n",
      "|  | 2|  |  |  |  |  |\n",
      "----------------------\n",
      "| 2|  |  |  | 1|  |  |\n",
      "----------------------\n",
      "|  |  |  | 1|  |  |  |\n",
      "----------------------\n",
      "|  |  | 1|  |  |  | 2|\n",
      "----------------------\n",
      "|  | 1|  |  |  | 2|  |\n",
      "----------------------\n",
      "Test with positive argument for increment by 8\n",
      "Parameter: 1 - value: 4\n",
      "Parameter: 9 - value: 3\n",
      "Parameter: 17 - value: 2\n",
      "Parameter: 25 - value: 1\n",
      "Parameter: 5 - value: 2\n",
      "Test with negative argument for increment by -8 - decrement\n",
      "Parameter: 1 - value: 1\n",
      "Parameter: 9 - value: 2\n",
      "Parameter: 17 - value: 3\n",
      "Parameter: 25 - value: 4\n",
      "Parameter: 29 - value: 2\n"
     ]
    }
   ],
   "source": [
    "board = np.array([ 0, 1, 0, 0, 0, 2, 0,\n",
    "                   0, 0, 1, 0, 0, 0, 2,\n",
    "                   0, 0, 0, 1, 0, 0, 0,\n",
    "                   2, 0, 0, 0, 1, 0, 0,\n",
    "                   0, 2, 0, 0, 0, 0, 0,\n",
    "                   0, 0, 0, 0, 0, 0, 0], dtype=int)\n",
    "cb = CurrentBoard(board)\n",
    "cb.display_game_board()\n",
    "# Expected: \n",
    "# 1 result is 4\n",
    "# 9 result is 3\n",
    "# 17 result is 2\n",
    "# 25 result is 1\n",
    "# 5 result is 2 # test edge\n",
    "print('Test with positive argument for increment by 8')\n",
    "for i in [1, 9, 17, 25, 5]:\n",
    "    print('Parameter: {} - value: {}'.format(i, cb.count_from(i, increment=8)))\n",
    "    \n",
    "print('Test with negative argument for increment by -8 - decrement')\n",
    "# Expected: \n",
    "# 1 result is 1\n",
    "# 9 result is 2\n",
    "# 17 result is 3\n",
    "# 25 result is 4\n",
    "# 29 result is 2 # test edge\n",
    "for i in [1, 9, 17, 25, 29]:\n",
    "    print('Parameter: {} - value: {}'.format(i, cb.count_from(i, increment=-8)))"
   ]
  },
  {
   "cell_type": "markdown",
   "metadata": {},
   "source": [
    "### Test count_from() - diagonal left up"
   ]
  },
  {
   "cell_type": "code",
   "execution_count": 21,
   "metadata": {
    "scrolled": true
   },
   "outputs": [
    {
     "name": "stdout",
     "output_type": "stream",
     "text": [
      "| 1| 2| 3| 4| 5| 6| 7|\n",
      "======================\n",
      "|  |  |  |  |  |  |  |\n",
      "----------------------\n",
      "|  |  |  |  |  |  |  |\n",
      "----------------------\n",
      "|  | 1|  |  |  |  |  |\n",
      "----------------------\n",
      "|  |  | 1|  |  | 1|  |\n",
      "----------------------\n",
      "| 1|  |  | 1|  |  | 1|\n",
      "----------------------\n",
      "|  | 1|  |  | 1|  |  |\n",
      "----------------------\n",
      "Test with positive argument for increment by 6\n",
      "Parameter: 4 - value: 4\n",
      "Parameter: 10 - value: 3\n",
      "Parameter: 16 - value: 2\n",
      "Parameter: 22 - value: 1\n",
      "Parameter: 1 - value: 2\n",
      "Test with negative argument for increment by -6 - decrement\n",
      "Parameter: 4 - value: 1\n",
      "Parameter: 10 - value: 2\n",
      "Parameter: 16 - value: 3\n",
      "Parameter: 22 - value: 4\n",
      "Parameter: 13 - value: 1\n"
     ]
    }
   ],
   "source": [
    "board = np.array([ 0, 1, 0, 0, 1, 0, 0,\n",
    "                   1, 0, 0, 1, 0, 0, 1,\n",
    "                   0, 0, 1, 0, 0, 1, 0,\n",
    "                   0, 1, 0, 0, 0, 0, 0,\n",
    "                   0, 0, 0, 0, 0, 0, 0,\n",
    "                   0, 0, 0, 0, 0, 0, 0], dtype=int)\n",
    "cb = CurrentBoard(board)\n",
    "cb.display_game_board()\n",
    "# Expected:\n",
    "# 4 result is 4\n",
    "# 10 result is 3\n",
    "# 16 result is 2\n",
    "# 22 result is 1\n",
    "# 1 result is 2 # test edge\n",
    "\n",
    "print('Test with positive argument for increment by 6')\n",
    "for i in [4, 10, 16, 22, 1]:\n",
    "    print('Parameter: {} - value: {}'.format(i, cb.count_from(i, increment=6)))\n",
    "    \n",
    "print('Test with negative argument for increment by -6 - decrement')\n",
    "# Expected:\n",
    "# 4 result is 1\n",
    "# 10 result is 2\n",
    "# 16 result is 3\n",
    "# 22 result is 4\n",
    "# 19 result is 2 # test edge\n",
    "for i in [4, 10, 16, 22, 13]:\n",
    "    print('Parameter: {} - value: {}'.format(i, cb.count_from(i, increment=-6)))"
   ]
  },
  {
   "cell_type": "markdown",
   "metadata": {},
   "source": [
    "## Test game_won_at(index)"
   ]
  },
  {
   "cell_type": "markdown",
   "metadata": {},
   "source": [
    "### Test game_won_at - horizontally"
   ]
  },
  {
   "cell_type": "code",
   "execution_count": 22,
   "metadata": {},
   "outputs": [
    {
     "name": "stdout",
     "output_type": "stream",
     "text": [
      "| 1| 2| 3| 4| 5| 6| 7|\n",
      "======================\n",
      "|  |  |  |  |  |  |  |\n",
      "----------------------\n",
      "|  |  |  |  |  |  |  |\n",
      "----------------------\n",
      "|  |  |  |  |  |  |  |\n",
      "----------------------\n",
      "|  |  |  |  |  |  |  |\n",
      "----------------------\n",
      "| 2| 2|  |  |  |  |  |\n",
      "----------------------\n",
      "| 1| 1| 1| 1|  | 2| 2|\n",
      "----------------------\n",
      "Test with positive argument for increment\n",
      "Parameter: 0 - value: True\n",
      "Parameter: 1 - value: True\n",
      "Parameter: 2 - value: True\n",
      "Parameter: 3 - value: True\n",
      "Parameter: 5 - value: False\n",
      "Test with negative argument for increment\n",
      "Parameter: 0 - value: True\n",
      "Parameter: 1 - value: True\n",
      "Parameter: 2 - value: True\n",
      "Parameter: 3 - value: True\n",
      "Parameter: 8 - value: False\n"
     ]
    }
   ],
   "source": [
    "board = np.array([ 1, 1, 1, 1, 0, 2, 2,\n",
    "                   2, 2, 0, 0, 0, 0, 0,\n",
    "                   0, 0, 0, 0, 0, 0, 0,\n",
    "                   0, 0, 0, 0, 0, 0, 0,\n",
    "                   0, 0, 0, 0, 0, 0, 0,\n",
    "                   0, 0, 0, 0, 0, 0, 0], dtype=int)\n",
    "cb = CurrentBoard(board)\n",
    "cb.display_game_board()\n",
    "# Expected: \n",
    "# 0 result is True\n",
    "# 1 result is True\n",
    "# 2 result is True\n",
    "# 3 result is True\n",
    "# 5 result is False # test edge\n",
    "print('Test with positive argument for increment')\n",
    "for i in [0, 1, 2, 3, 5]:\n",
    "    print('Parameter: {} - value: {}'.format(i, cb.game_won_at(i)))\n",
    "    \n",
    "print('Test with negative argument for increment')\n",
    "# Expected: \n",
    "# 0 result is True\n",
    "# 1 result is True\n",
    "# 2 result is True\n",
    "# 3 result is True\n",
    "# 8 result is False # test edge\n",
    "for i in [0, 1, 2, 3, 8]:\n",
    "    print('Parameter: {} - value: {}'.format(i, cb.game_won_at(i)))"
   ]
  },
  {
   "cell_type": "markdown",
   "metadata": {},
   "source": [
    "### Test game_won_at - vertical"
   ]
  },
  {
   "cell_type": "code",
   "execution_count": 23,
   "metadata": {},
   "outputs": [
    {
     "name": "stdout",
     "output_type": "stream",
     "text": [
      "| 1| 2| 3| 4| 5| 6| 7|\n",
      "======================\n",
      "|  |  |  |  |  |  |  |\n",
      "----------------------\n",
      "|  |  |  |  |  |  |  |\n",
      "----------------------\n",
      "|  |  |  |  |  |  | 2|\n",
      "----------------------\n",
      "|  |  |  |  |  |  | 2|\n",
      "----------------------\n",
      "|  |  |  |  |  |  | 2|\n",
      "----------------------\n",
      "|  |  |  |  |  |  | 2|\n",
      "----------------------\n",
      "Test with positive argument for increment by 7\n",
      "Parameter: 6 - value: True\n",
      "Parameter: 13 - value: True\n",
      "Parameter: 20 - value: True\n",
      "Parameter: 27 - value: True\n",
      "Test with negative argument for increment by -7 - decrement\n",
      "Parameter: 6 - value: True\n",
      "Parameter: 13 - value: True\n",
      "Parameter: 20 - value: True\n",
      "Parameter: 27 - value: True\n"
     ]
    }
   ],
   "source": [
    "board = np.array([ 0, 0, 0, 0, 0, 0, 2,\n",
    "                   0, 0, 0, 0, 0, 0, 2,\n",
    "                   0, 0, 0, 0, 0, 0, 2,\n",
    "                   0, 0, 0, 0, 0, 0, 2,\n",
    "                   0, 0, 0, 0, 0, 0, 0,\n",
    "                   0, 0, 0, 0, 0, 0, 0], dtype=int)\n",
    "cb = CurrentBoard(board)\n",
    "cb.display_game_board()\n",
    "# Expected: \n",
    "# 6 result is True\n",
    "# 13 result is True\n",
    "# 20 result is True\n",
    "# 27 result is True\n",
    "print('Test with positive argument for increment by 7')\n",
    "for i in [6, 13, 20, 27]:\n",
    "    print('Parameter: {} - value: {}'.format(i, cb.game_won_at(i)))\n",
    "    \n",
    "print('Test with negative argument for increment by -7 - decrement')\n",
    "# Expected: \n",
    "# 6 result is True\n",
    "# 13 result is True\n",
    "# 20 result is True\n",
    "# 27 result is True\n",
    "for i in [6, 13, 20, 27]:\n",
    "    print('Parameter: {} - value: {}'.format(i, cb.game_won_at(i)))"
   ]
  },
  {
   "cell_type": "markdown",
   "metadata": {},
   "source": [
    "### Test game_won_at - diagonal right up"
   ]
  },
  {
   "cell_type": "code",
   "execution_count": 24,
   "metadata": {},
   "outputs": [
    {
     "name": "stdout",
     "output_type": "stream",
     "text": [
      "| 1| 2| 3| 4| 5| 6| 7|\n",
      "======================\n",
      "|  |  |  |  |  |  |  |\n",
      "----------------------\n",
      "|  | 2|  |  |  |  |  |\n",
      "----------------------\n",
      "| 2|  |  |  | 1|  |  |\n",
      "----------------------\n",
      "|  |  |  | 1|  |  |  |\n",
      "----------------------\n",
      "|  |  | 1|  |  |  | 2|\n",
      "----------------------\n",
      "|  | 1|  |  |  | 2|  |\n",
      "----------------------\n",
      "Test with positive argument for increment by 8\n",
      "Parameter: 1 - value: True\n",
      "Parameter: 9 - value: True\n",
      "Parameter: 17 - value: True\n",
      "Parameter: 25 - value: True\n",
      "Parameter: 5 - value: False\n",
      "Test with negative argument for increment by -8 - decrement\n",
      "Parameter: 1 - value: True\n",
      "Parameter: 9 - value: True\n",
      "Parameter: 17 - value: True\n",
      "Parameter: 25 - value: True\n",
      "Parameter: 29 - value: False\n"
     ]
    }
   ],
   "source": [
    "board = np.array([ 0, 1, 0, 0, 0, 2, 0,\n",
    "                   0, 0, 1, 0, 0, 0, 2,\n",
    "                   0, 0, 0, 1, 0, 0, 0,\n",
    "                   2, 0, 0, 0, 1, 0, 0,\n",
    "                   0, 2, 0, 0, 0, 0, 0,\n",
    "                   0, 0, 0, 0, 0, 0, 0], dtype=int)\n",
    "cb = CurrentBoard(board)\n",
    "cb.display_game_board()\n",
    "# Expected: \n",
    "# 1 result is True\n",
    "# 9 result is True\n",
    "# 17 result is True\n",
    "# 25 result is True\n",
    "# 5 result is False # test edge\n",
    "print('Test with positive argument for increment by 8')\n",
    "for i in [1, 9, 17, 25, 5]:\n",
    "    print('Parameter: {} - value: {}'.format(i, cb.game_won_at(i)))\n",
    "    \n",
    "print('Test with negative argument for increment by -8 - decrement')\n",
    "# Expected: \n",
    "# 1 result is True\n",
    "# 9 result is True\n",
    "# 17 result is True\n",
    "# 25 result is True\n",
    "# 29 result is False # test edge\n",
    "for i in [1, 9, 17, 25, 29]:\n",
    "    print('Parameter: {} - value: {}'.format(i, cb.game_won_at(i)))"
   ]
  },
  {
   "cell_type": "markdown",
   "metadata": {},
   "source": [
    "### Test game_won_at - diagonal left up"
   ]
  },
  {
   "cell_type": "code",
   "execution_count": 25,
   "metadata": {},
   "outputs": [
    {
     "name": "stdout",
     "output_type": "stream",
     "text": [
      "| 1| 2| 3| 4| 5| 6| 7|\n",
      "======================\n",
      "|  |  |  |  |  |  |  |\n",
      "----------------------\n",
      "|  |  |  |  |  |  |  |\n",
      "----------------------\n",
      "|  | 1|  |  |  |  |  |\n",
      "----------------------\n",
      "|  |  | 1|  |  | 1|  |\n",
      "----------------------\n",
      "| 1|  |  | 1|  |  | 1|\n",
      "----------------------\n",
      "|  | 1|  |  | 1|  |  |\n",
      "----------------------\n",
      "Test with positive argument for increment by 6\n",
      "Parameter: 4 - value: True\n",
      "Parameter: 10 - value: True\n",
      "Parameter: 16 - value: True\n",
      "Parameter: 22 - value: True\n",
      "Parameter: 1 - value: False\n",
      "Test with negative argument for increment by -6 - decrement\n",
      "Parameter: 4 - value: True\n",
      "Parameter: 10 - value: True\n",
      "Parameter: 16 - value: True\n",
      "Parameter: 22 - value: True\n",
      "Parameter: 13 - value: False\n"
     ]
    }
   ],
   "source": [
    "board = np.array([ 0, 1, 0, 0, 1, 0, 0,\n",
    "                   1, 0, 0, 1, 0, 0, 1,\n",
    "                   0, 0, 1, 0, 0, 1, 0,\n",
    "                   0, 1, 0, 0, 0, 0, 0,\n",
    "                   0, 0, 0, 0, 0, 0, 0,\n",
    "                   0, 0, 0, 0, 0, 0, 0], dtype=int)\n",
    "cb = CurrentBoard(board)\n",
    "cb.display_game_board()\n",
    "# Expected:\n",
    "# 4 result is True\n",
    "# 10 result is True\n",
    "# 16 result is True\n",
    "# 22 result is True\n",
    "# 1 result is False # test edge\n",
    "\n",
    "print('Test with positive argument for increment by 6')\n",
    "for i in [4, 10, 16, 22, 1]:\n",
    "    print('Parameter: {} - value: {}'.format(i, cb.game_won_at(i)))\n",
    "    \n",
    "print('Test with negative argument for increment by -6 - decrement')\n",
    "# Expected:\n",
    "# 4 result is True\n",
    "# 10 result is True\n",
    "# 16 result is True\n",
    "# 22 result is True\n",
    "# 19 result is False # test edge\n",
    "for i in [4, 10, 16, 22, 13]:\n",
    "    print('Parameter: {} - value: {}'.format(i, cb.game_won_at(i)))"
   ]
  },
  {
   "cell_type": "markdown",
   "metadata": {},
   "source": [
    "### Test game_won() and outcome\n",
    "- outcome should be equal the result of game_won()"
   ]
  },
  {
   "cell_type": "code",
   "execution_count": 26,
   "metadata": {},
   "outputs": [
    {
     "name": "stdout",
     "output_type": "stream",
     "text": [
      "| 1| 2| 3| 4| 5| 6| 7|\n",
      "======================\n",
      "| 2| 2| 2| 2|  |  | 1|\n",
      "----------------------\n",
      "|  |  |  |  |  |  |  |\n",
      "----------------------\n",
      "| 1|  |  | 1| 2|  |  |\n",
      "----------------------\n",
      "| 1|  |  | 2| 1|  |  |\n",
      "----------------------\n",
      "| 1|  | 2|  |  | 1|  |\n",
      "----------------------\n",
      "| 1| 2|  |  |  |  | 1|\n",
      "----------------------\n",
      "parameter value: 0; result: 9223372036854775807; outcome: 9223372036854775807\n",
      "parameter value: 1; result: 9223372036854775807; outcome: 9223372036854775807\n",
      "parameter value: 6; result: 9223372036854775807; outcome: 9223372036854775807\n",
      "parameter value: 35; result: 9223372036854775807; outcome: 9223372036854775807\n",
      "parameter value: 41; result: 6; outcome: 3\n"
     ]
    }
   ],
   "source": [
    "board=np.array([ 1, 2, 0, 0, 0, 0, 1,\n",
    "                 1, 0, 2, 0, 0, 1, 0,\n",
    "                 1, 0, 0, 2, 1, 0, 0,\n",
    "                 1, 0, 0, 1, 2, 0, 0,\n",
    "                 0, 0, 0, 0, 0, 0, 0,\n",
    "                 2, 2, 2, 2, 0, 0, 1], dtype=int)\n",
    "cb = CurrentBoard(board)\n",
    "cb.display_game_board()\n",
    "# Expected:\n",
    "# 0 result: 9223372036854775807; outcome: 9223372036854775807\n",
    "# 1 result: 9223372036854775807; outcome: 9223372036854775807\n",
    "# 6 result: 9223372036854775807; outcome: 9223372036854775807\n",
    "# 35 result: 9223372036854775807; outcome: 9223372036854775807\n",
    "# 41 result: #TODO some number but not 9223372036854775807; outcome: #TODO some number but not 9223372036854775807 # test edge\n",
    "\n",
    "for i in [0, 1, 6, 35, 41]:\n",
    "    cb = CurrentBoard(board, index=i)\n",
    "    print('parameter value: {}; result: {}; outcome: {}'.format(i, cb.game_won(i), cb.outcome))"
   ]
  },
  {
   "cell_type": "markdown",
   "metadata": {},
   "source": [
    "# TODO"
   ]
  },
  {
   "cell_type": "markdown",
   "metadata": {},
   "source": [
    "## eval_count_from(self, start_index, increment, start_value)"
   ]
  },
  {
   "cell_type": "markdown",
   "metadata": {},
   "source": [
    "### eval_count_from - horizontally"
   ]
  },
  {
   "cell_type": "code",
   "execution_count": 27,
   "metadata": {},
   "outputs": [
    {
     "name": "stdout",
     "output_type": "stream",
     "text": [
      "| 1| 2| 3| 4| 5| 6| 7|\n",
      "======================\n",
      "|  |  |  |  |  |  |  |\n",
      "----------------------\n",
      "|  |  |  |  |  |  |  |\n",
      "----------------------\n",
      "| 1| 1|  |  |  | 1| 1|\n",
      "----------------------\n",
      "| 1|  |  | 1|  |  | 1|\n",
      "----------------------\n",
      "| 1| 2|  |  |  | 2| 1|\n",
      "----------------------\n",
      "| 1|  |  |  |  |  | 1|\n",
      "----------------------\n",
      "Test with positive argument for increment\n",
      "Parameter: 0 - value: 6\n",
      "Parameter: 7 - value: 6\n",
      "Parameter: 14 - value: 3\n",
      "Parameter: 21 - value: 1\n",
      "Test with negative argument for increment\n",
      "Parameter: 6 - value: 6\n",
      "Parameter: 13 - value: 6\n",
      "Parameter: 20 - value: 3\n",
      "Parameter: 27 - value: 1\n"
     ]
    }
   ],
   "source": [
    "board = np.array([ 1, 0, 0, 0, 0, 0, 1,\n",
    "                   1, 2, 0, 0, 0, 2, 1,\n",
    "                   1, 0, 0, 1, 0, 0, 1,\n",
    "                   1, 1, 0, 0, 0, 1, 1,\n",
    "                   0, 0, 0, 0, 0, 0, 0,\n",
    "                   0, 0, 0, 0, 0, 0, 0], dtype=int)\n",
    "cb = CurrentBoard(board)\n",
    "cb.display_game_board()\n",
    "# Expected: \n",
    "# 0 result is 6\n",
    "# 7 result is 6\n",
    "# 14 result is 3\n",
    "# 21 result is 1\n",
    "\n",
    "print('Test with positive argument for increment')\n",
    "for i in [0, 7, 14, 21]:\n",
    "    print('Parameter: {} - value: {}'.format(i, cb.eval_count_from(start_index=i, increment=1, start_value=1)))\n",
    "    \n",
    "print('Test with negative argument for increment')\n",
    "# Expected:\n",
    "# 6 result is 6\n",
    "# 13 result is 6\n",
    "# 20 result is 3\n",
    "# 27 result is 1\n",
    "for i in [6, 13, 20, 27]:\n",
    "    print('Parameter: {} - value: {}'.format(i, cb.eval_count_from(start_index=i, increment=-1, start_value=1)))"
   ]
  },
  {
   "cell_type": "markdown",
   "metadata": {},
   "source": [
    "### eval_count_from - verticaly"
   ]
  },
  {
   "cell_type": "code",
   "execution_count": null,
   "metadata": {},
   "outputs": [],
   "source": []
  },
  {
   "cell_type": "markdown",
   "metadata": {},
   "source": [
    "### eval_count_from - diagonaly right up/left dow"
   ]
  },
  {
   "cell_type": "code",
   "execution_count": null,
   "metadata": {},
   "outputs": [],
   "source": []
  },
  {
   "cell_type": "markdown",
   "metadata": {},
   "source": [
    "### eval_count_from - diagonaly left up/right down"
   ]
  },
  {
   "cell_type": "code",
   "execution_count": null,
   "metadata": {},
   "outputs": [],
   "source": []
  },
  {
   "cell_type": "code",
   "execution_count": null,
   "metadata": {},
   "outputs": [],
   "source": []
  },
  {
   "cell_type": "markdown",
   "metadata": {},
   "source": [
    "## Test total_blocked_positions(self, index)"
   ]
  },
  {
   "cell_type": "markdown",
   "metadata": {},
   "source": [
    "### Test total_blocked_positions(self, index)"
   ]
  },
  {
   "cell_type": "code",
   "execution_count": 28,
   "metadata": {},
   "outputs": [
    {
     "name": "stdout",
     "output_type": "stream",
     "text": [
      "| 1| 2| 3| 4| 5| 6| 7|\n",
      "======================\n",
      "|  |  |  |  |  | 1| 1|\n",
      "----------------------\n",
      "|  |  |  |  |  | 1| 1|\n",
      "----------------------\n",
      "|  |  |  |  |  |  |  |\n",
      "----------------------\n",
      "|  |  |  |  |  |  |  |\n",
      "----------------------\n",
      "| 1|  |  |  |  |  |  |\n",
      "----------------------\n",
      "|  |  |  | 1|  |  |  |\n",
      "----------------------\n",
      "Parameter: 3 - value: 7\n",
      "Parameter: 7 - value: 4\n",
      "Parameter: 41 - value: 0\n"
     ]
    }
   ],
   "source": [
    "board = np.array([ 0, 0, 0, 1, 0, 0, 0,\n",
    "                   1, 0, 0, 0, 0, 0, 0,\n",
    "                   0, 0, 0, 0, 0, 0, 0,\n",
    "                   0, 0, 0, 0, 0, 0, 0,\n",
    "                   0, 0, 0, 0, 0, 1, 1,\n",
    "                   0, 0, 0, 0, 0, 1, 1], dtype=int)\n",
    "cb = CurrentBoard(board)\n",
    "cb.display_game_board()\n",
    "# Expected: \n",
    "# 3 result is 7\n",
    "# 7 result is 4\n",
    "# 41 result is 0\n",
    "\n",
    "for i in [3, 7, 41]:\n",
    "    print('Parameter: {} - value: {}'.format(i, cb.total_blocked_positions(i)))"
   ]
  },
  {
   "cell_type": "markdown",
   "metadata": {},
   "source": [
    "# TEST SearchTreeNode CLASS"
   ]
  },
  {
   "cell_type": "markdown",
   "metadata": {},
   "source": [
    "## Tests SearchTreeNode object creation\n",
    "\n",
    "In all cases 'nex_move' is None, as next_move is assign by min_max method"
   ]
  },
  {
   "cell_type": "markdown",
   "metadata": {},
   "source": [
    "### Test 1) Start of the game, default board\n",
    "Create default SearchTreeNode with max_depth=3 and check all levels. Last level should not create children."
   ]
  },
  {
   "cell_type": "code",
   "execution_count": 29,
   "metadata": {},
   "outputs": [],
   "source": [
    "# default SearchTreeNode\n",
    "stn = SearchTreeNode(max_depth=3)"
   ]
  },
  {
   "cell_type": "code",
   "execution_count": 30,
   "metadata": {},
   "outputs": [
    {
     "name": "stdout",
     "output_type": "stream",
     "text": [
      "| 1| 2| 3| 4| 5| 6| 7|\n",
      "======================\n",
      "|  |  |  |  |  |  |  |\n",
      "----------------------\n",
      "|  |  |  |  |  |  |  |\n",
      "----------------------\n",
      "|  |  |  |  |  |  |  |\n",
      "----------------------\n",
      "|  |  |  |  |  |  |  |\n",
      "----------------------\n",
      "|  |  |  |  |  |  |  |\n",
      "----------------------\n",
      "|  |  |  |  |  |  |  |\n",
      "----------------------\n",
      "CurrentBoard at this node properties:\n"
     ]
    },
    {
     "data": {
      "text/plain": [
       "{'board': array([0, 0, 0, 0, 0, 0, 0, 0, 0, 0, 0, 0, 0, 0, 0, 0, 0, 0, 0, 0, 0, 0,\n",
       "        0, 0, 0, 0, 0, 0, 0, 0, 0, 0, 0, 0, 0, 0, 0, 0, 0, 0, 0, 0]),\n",
       " 'board_width': 7,\n",
       " 'board_height': 6,\n",
       " 'board_total': 42,\n",
       " 'count_move': 0,\n",
       " 'index': -1,\n",
       " 'player_at_this_level': 2,\n",
       " 'winning_positions_1': 69,\n",
       " 'winning_positions_2': 69,\n",
       " 'player_1': 1,\n",
       " 'player_2': 2,\n",
       " 'win': False,\n",
       " 'draw': 0,\n",
       " 'outcome': 0}"
      ]
     },
     "execution_count": 30,
     "metadata": {},
     "output_type": "execute_result"
    }
   ],
   "source": [
    "# Expected: empty board\n",
    "# 'count_move': 0,\n",
    "# 'index': -1,\n",
    "# 'player_at_this_level': 2,\n",
    "# 'player_1': 1,\n",
    "# 'player_2': 2,\n",
    "# 'win': False,\n",
    "# 'outcome': 0\n",
    "\n",
    "# level 0\n",
    "level_0 = stn\n",
    "level_0.game_at_this_node.display_game_board()\n",
    "print('CurrentBoard at this node properties:')\n",
    "vars(level_0.game_at_this_node)"
   ]
  },
  {
   "cell_type": "code",
   "execution_count": 31,
   "metadata": {},
   "outputs": [
    {
     "name": "stdout",
     "output_type": "stream",
     "text": [
      "SearchTreeNode properties:\n"
     ]
    },
    {
     "data": {
      "text/plain": [
       "{'children': [<__main__.SearchTreeNode at 0x22ad9b0be10>,\n",
       "  <__main__.SearchTreeNode at 0x22ad9b4f630>,\n",
       "  <__main__.SearchTreeNode at 0x22ad9ba7e48>,\n",
       "  <__main__.SearchTreeNode at 0x22ad9ba1ba8>],\n",
       " 'ply_depth': 0,\n",
       " 'max_depth': 3,\n",
       " 'node_terminal': False,\n",
       " 'node_trap': False,\n",
       " 'node_value': None,\n",
       " 'game_at_this_node': <__main__.CurrentBoard at 0x22ad9ba1f28>,\n",
       " 'comp_first': True}"
      ]
     },
     "execution_count": 31,
     "metadata": {},
     "output_type": "execute_result"
    }
   ],
   "source": [
    "# level 0\n",
    "print('SearchTreeNode properties:')\n",
    "vars(level_0)"
   ]
  },
  {
   "cell_type": "code",
   "execution_count": 32,
   "metadata": {},
   "outputs": [
    {
     "name": "stdout",
     "output_type": "stream",
     "text": [
      "7 5 4 3 "
     ]
    }
   ],
   "source": [
    "# Check if items in children are sorted in descending order accordind to heuristic function (outcome)\n",
    "for child in level_0.children:\n",
    "    print(child.game_at_this_node.outcome, end=' ')"
   ]
  },
  {
   "cell_type": "code",
   "execution_count": 33,
   "metadata": {},
   "outputs": [
    {
     "name": "stdout",
     "output_type": "stream",
     "text": [
      "| 1| 2| 3| 4| 5| 6| 7|\n",
      "======================\n",
      "|  |  |  |  |  |  |  |\n",
      "----------------------\n",
      "|  |  |  |  |  |  |  |\n",
      "----------------------\n",
      "|  |  |  |  |  |  |  |\n",
      "----------------------\n",
      "|  |  |  |  |  |  |  |\n",
      "----------------------\n",
      "|  |  |  |  |  |  |  |\n",
      "----------------------\n",
      "|  |  |  | 1|  |  |  |\n",
      "----------------------\n",
      "CurrentBoard at this node properties:\n"
     ]
    },
    {
     "data": {
      "text/plain": [
       "{'board': array([0, 0, 0, 1, 0, 0, 0, 0, 0, 0, 0, 0, 0, 0, 0, 0, 0, 0, 0, 0, 0, 0,\n",
       "        0, 0, 0, 0, 0, 0, 0, 0, 0, 0, 0, 0, 0, 0, 0, 0, 0, 0, 0, 0]),\n",
       " 'board_width': 7,\n",
       " 'board_height': 6,\n",
       " 'board_total': 42,\n",
       " 'count_move': 1,\n",
       " 'index': 3,\n",
       " 'player_at_this_level': 1,\n",
       " 'winning_positions_1': 69,\n",
       " 'winning_positions_2': 62,\n",
       " 'player_1': 1,\n",
       " 'player_2': 2,\n",
       " 'win': False,\n",
       " 'draw': 0,\n",
       " 'outcome': 7}"
      ]
     },
     "execution_count": 33,
     "metadata": {},
     "output_type": "execute_result"
    }
   ],
   "source": [
    "# level 1\n",
    "level_1 = stn.children[0]\n",
    "level_1.game_at_this_node.display_game_board()\n",
    "print('CurrentBoard at this node properties:')\n",
    "vars(level_1.game_at_this_node)"
   ]
  },
  {
   "cell_type": "code",
   "execution_count": 34,
   "metadata": {},
   "outputs": [
    {
     "name": "stdout",
     "output_type": "stream",
     "text": [
      "SearchTreeNode properties:\n"
     ]
    },
    {
     "data": {
      "text/plain": [
       "{'children': [<__main__.SearchTreeNode at 0x22ad9b32f28>,\n",
       "  <__main__.SearchTreeNode at 0x22ad9b32be0>,\n",
       "  <__main__.SearchTreeNode at 0x22ad9b32898>,\n",
       "  <__main__.SearchTreeNode at 0x22ad9b326d8>],\n",
       " 'ply_depth': 1,\n",
       " 'max_depth': 3,\n",
       " 'node_terminal': False,\n",
       " 'node_trap': False,\n",
       " 'node_value': None,\n",
       " 'game_at_this_node': <__main__.CurrentBoard at 0x22ad9ba17f0>,\n",
       " 'comp_first': True}"
      ]
     },
     "execution_count": 34,
     "metadata": {},
     "output_type": "execute_result"
    }
   ],
   "source": [
    "print('SearchTreeNode properties:')\n",
    "vars(level_1)"
   ]
  },
  {
   "cell_type": "code",
   "execution_count": 35,
   "metadata": {},
   "outputs": [
    {
     "name": "stdout",
     "output_type": "stream",
     "text": [
      "10 5 4 3 "
     ]
    }
   ],
   "source": [
    "# Check if items in children are sorted in descending order accordind to heuristic function (outcome)\n",
    "for child in level_1.children:\n",
    "    print(child.game_at_this_node.outcome, end=' ')"
   ]
  },
  {
   "cell_type": "code",
   "execution_count": 36,
   "metadata": {},
   "outputs": [
    {
     "name": "stdout",
     "output_type": "stream",
     "text": [
      "| 1| 2| 3| 4| 5| 6| 7|\n",
      "======================\n",
      "|  |  |  |  |  |  |  |\n",
      "----------------------\n",
      "|  |  |  |  |  |  |  |\n",
      "----------------------\n",
      "|  |  |  |  |  |  |  |\n",
      "----------------------\n",
      "|  |  |  |  |  |  |  |\n",
      "----------------------\n",
      "|  |  |  | 2|  |  |  |\n",
      "----------------------\n",
      "|  |  |  | 1|  |  |  |\n",
      "----------------------\n",
      "CurrentBoard at this node properties:\n"
     ]
    },
    {
     "data": {
      "text/plain": [
       "{'board': array([0, 0, 0, 1, 0, 0, 0, 0, 0, 0, 2, 0, 0, 0, 0, 0, 0, 0, 0, 0, 0, 0,\n",
       "        0, 0, 0, 0, 0, 0, 0, 0, 0, 0, 0, 0, 0, 0, 0, 0, 0, 0, 0, 0]),\n",
       " 'board_width': 7,\n",
       " 'board_height': 6,\n",
       " 'board_total': 42,\n",
       " 'count_move': 2,\n",
       " 'index': 10,\n",
       " 'player_at_this_level': 2,\n",
       " 'winning_positions_1': 59,\n",
       " 'winning_positions_2': 69,\n",
       " 'player_1': 1,\n",
       " 'player_2': 2,\n",
       " 'win': False,\n",
       " 'draw': 0,\n",
       " 'outcome': 10}"
      ]
     },
     "execution_count": 36,
     "metadata": {},
     "output_type": "execute_result"
    }
   ],
   "source": [
    "# level 2\n",
    "level_2 = stn.children[0].children[0]\n",
    "level_2.game_at_this_node.display_game_board()\n",
    "print('CurrentBoard at this node properties:')\n",
    "vars(level_2.game_at_this_node)"
   ]
  },
  {
   "cell_type": "code",
   "execution_count": 37,
   "metadata": {},
   "outputs": [
    {
     "name": "stdout",
     "output_type": "stream",
     "text": [
      "SearchTreeNode properties:\n"
     ]
    },
    {
     "data": {
      "text/plain": [
       "{'children': [<__main__.SearchTreeNode at 0x22ad9b0a2e8>,\n",
       "  <__main__.SearchTreeNode at 0x22ad9b0a240>,\n",
       "  <__main__.SearchTreeNode at 0x22ad9b0a208>,\n",
       "  <__main__.SearchTreeNode at 0x22ad9b0a2b0>],\n",
       " 'ply_depth': 2,\n",
       " 'max_depth': 3,\n",
       " 'node_terminal': False,\n",
       " 'node_trap': False,\n",
       " 'node_value': None,\n",
       " 'game_at_this_node': <__main__.CurrentBoard at 0x22ad9b32668>,\n",
       " 'comp_first': True}"
      ]
     },
     "execution_count": 37,
     "metadata": {},
     "output_type": "execute_result"
    }
   ],
   "source": [
    "print('SearchTreeNode properties:')\n",
    "vars(level_2)"
   ]
  },
  {
   "cell_type": "code",
   "execution_count": 38,
   "metadata": {},
   "outputs": [
    {
     "name": "stdout",
     "output_type": "stream",
     "text": [
      "| 1| 2| 3| 4| 5| 6| 7|\n",
      "======================\n",
      "|  |  |  |  |  |  |  |\n",
      "----------------------\n",
      "|  |  |  |  |  |  |  |\n",
      "----------------------\n",
      "|  |  |  |  |  |  |  |\n",
      "----------------------\n",
      "|  |  |  | 1|  |  |  |\n",
      "----------------------\n",
      "|  |  |  | 2|  |  |  |\n",
      "----------------------\n",
      "|  |  |  | 1|  |  |  |\n",
      "----------------------\n",
      "CurrentBoard at this node properties:\n"
     ]
    },
    {
     "data": {
      "text/plain": [
       "{'board': array([0, 0, 0, 1, 0, 0, 0, 0, 0, 0, 2, 0, 0, 0, 0, 0, 0, 1, 0, 0, 0, 0,\n",
       "        0, 0, 0, 0, 0, 0, 0, 0, 0, 0, 0, 0, 0, 0, 0, 0, 0, 0, 0, 0]),\n",
       " 'board_width': 7,\n",
       " 'board_height': 6,\n",
       " 'board_total': 42,\n",
       " 'count_move': 3,\n",
       " 'index': 17,\n",
       " 'player_at_this_level': 1,\n",
       " 'winning_positions_1': 69,\n",
       " 'winning_positions_2': 57,\n",
       " 'player_1': 1,\n",
       " 'player_2': 2,\n",
       " 'win': False,\n",
       " 'draw': 0,\n",
       " 'outcome': 12}"
      ]
     },
     "execution_count": 38,
     "metadata": {},
     "output_type": "execute_result"
    }
   ],
   "source": [
    "# Expected:\n",
    "# 'count_move': 3,\n",
    "# 'index': 17,\n",
    "# 'player_at_this_level': 1,\n",
    "# 'player_1': 1,\n",
    "# 'player_2': 2,\n",
    "# 'win': False,\n",
    "# 'outcome': 3 (REMEMBER: outcome depends on eval function)\n",
    "\n",
    "# level 3\n",
    "level_3 = stn.children[0].children[0].children[0]\n",
    "level_3.game_at_this_node.display_game_board()\n",
    "print('CurrentBoard at this node properties:')\n",
    "vars(level_3.game_at_this_node)"
   ]
  },
  {
   "cell_type": "code",
   "execution_count": 39,
   "metadata": {},
   "outputs": [
    {
     "name": "stdout",
     "output_type": "stream",
     "text": [
      "SearchTreeNode properties:\n"
     ]
    },
    {
     "data": {
      "text/plain": [
       "{'children': [],\n",
       " 'ply_depth': 3,\n",
       " 'max_depth': 3,\n",
       " 'node_terminal': False,\n",
       " 'node_trap': False,\n",
       " 'node_value': None,\n",
       " 'game_at_this_node': <__main__.CurrentBoard at 0x22ad9b0a1d0>,\n",
       " 'comp_first': True}"
      ]
     },
     "execution_count": 39,
     "metadata": {},
     "output_type": "execute_result"
    }
   ],
   "source": [
    "# Case: ply_depth == max_depth\n",
    "# Expected: \n",
    "# 'children': [],\n",
    "# 'ply_depth': 3,\n",
    "# 'max_depth': 3,\n",
    "# 'node_value': None,\n",
    "# 'game_at_this_node': <__main__.CurrentBoard >,\n",
    "# 'comp_first': True,\n",
    "print('SearchTreeNode properties:')\n",
    "vars(level_3)"
   ]
  },
  {
   "cell_type": "code",
   "execution_count": 40,
   "metadata": {},
   "outputs": [
    {
     "name": "stdout",
     "output_type": "stream",
     "text": [
      "10 5 4 3 "
     ]
    }
   ],
   "source": [
    "# Check if items in children are sorted in descending order accordind to heuristic function (outcome)\n",
    "for child in level_1.children:\n",
    "    print(child.game_at_this_node.outcome, end=' ')"
   ]
  },
  {
   "cell_type": "markdown",
   "metadata": {},
   "source": [
    "### Test 2) win situation for player 1"
   ]
  },
  {
   "cell_type": "code",
   "execution_count": 41,
   "metadata": {},
   "outputs": [
    {
     "name": "stdout",
     "output_type": "stream",
     "text": [
      "| 1| 2| 3| 4| 5| 6| 7|\n",
      "======================\n",
      "| 1| 2| 1|  |  | 1| 2|\n",
      "----------------------\n",
      "| 2| 1| 2| 1| 1| 1| 2|\n",
      "----------------------\n",
      "| 2| 1| 2| 1| 2| 2| 1|\n",
      "----------------------\n",
      "| 2| 2| 2| 1| 1| 2| 1|\n",
      "----------------------\n",
      "| 1| 2| 1| 2| 1| 1| 1|\n",
      "----------------------\n",
      "| 2| 2| 2| 1| 1| 2| 2|\n",
      "----------------------\n",
      "CurrentBoard at this node properties:\n"
     ]
    },
    {
     "data": {
      "text/plain": [
       "{'children': [<__main__.SearchTreeNode at 0x22ad9b316d8>,\n",
       "  <__main__.SearchTreeNode at 0x22ad9b31710>],\n",
       " 'ply_depth': 0,\n",
       " 'max_depth': 7,\n",
       " 'node_terminal': False,\n",
       " 'node_trap': False,\n",
       " 'node_value': None,\n",
       " 'game_at_this_node': <__main__.CurrentBoard at 0x22ad9b31588>,\n",
       " 'comp_first': True}"
      ]
     },
     "execution_count": 41,
     "metadata": {},
     "output_type": "execute_result"
    }
   ],
   "source": [
    "# board filled with: 1, 2 and few available moves\n",
    "board=np.array([2, 2, 2, 1, 1, 2, 2,\n",
    "                1, 2, 1, 2, 1, 1, 1,\n",
    "                2, 2, 2, 1, 1, 2, 1,\n",
    "                2, 1, 2, 1, 2, 2, 1,\n",
    "                2, 1, 2, 1, 1, 1, 2,\n",
    "                1, 2, 1, 0, 0, 1, 2], dtype=int)\n",
    "cb = CurrentBoard(board, count_move=40, index=41, player_at_this_level=2)\n",
    "stn = SearchTreeNode(Current_Game=cb, max_depth=7)\n",
    "\n",
    "stn.game_at_this_node.display_game_board()\n",
    "print('CurrentBoard at this node properties:')\n",
    "vars(stn)"
   ]
  },
  {
   "cell_type": "code",
   "execution_count": 42,
   "metadata": {},
   "outputs": [
    {
     "name": "stdout",
     "output_type": "stream",
     "text": [
      "SearchTreeNode properties of child 0:\n",
      "{'children': [], 'ply_depth': 1, 'max_depth': 7, 'node_terminal': True, 'node_trap': False, 'node_value': None, 'game_at_this_node': <__main__.CurrentBoard object at 0x0000022AD9B31668>, 'comp_first': True}\n",
      "SearchTreeNode properties of child 1:\n",
      "{'children': [<__main__.SearchTreeNode object at 0x0000022AD9B317B8>], 'ply_depth': 1, 'max_depth': 7, 'node_terminal': False, 'node_trap': False, 'node_value': None, 'game_at_this_node': <__main__.CurrentBoard object at 0x0000022AD9B315F8>, 'comp_first': True}\n"
     ]
    }
   ],
   "source": [
    "# Expected: one of the child should have: \n",
    "# children': []\n",
    "# node_terminal': True\n",
    "\n",
    "\n",
    "print('SearchTreeNode properties of child 0:')\n",
    "print(vars(stn.children[0]))\n",
    "print('SearchTreeNode properties of child 1:')\n",
    "print(vars(stn.children[1]))"
   ]
  },
  {
   "cell_type": "markdown",
   "metadata": {},
   "source": [
    "### Test 3) win situation for player 2"
   ]
  },
  {
   "cell_type": "code",
   "execution_count": 43,
   "metadata": {},
   "outputs": [
    {
     "name": "stdout",
     "output_type": "stream",
     "text": [
      "| 1| 2| 3| 4| 5| 6| 7|\n",
      "======================\n",
      "| 1| 2|  | 2| 1| 1| 2|\n",
      "----------------------\n",
      "| 2| 1| 2| 1| 1| 1| 2|\n",
      "----------------------\n",
      "| 2| 1| 2| 1| 2| 2| 1|\n",
      "----------------------\n",
      "| 2| 2| 2| 1| 1| 2| 1|\n",
      "----------------------\n",
      "| 1| 2| 1| 2| 1| 1| 1|\n",
      "----------------------\n",
      "| 2| 2| 2| 1| 1| 2| 2|\n",
      "----------------------\n",
      "CurrentBoard at this node properties:\n"
     ]
    },
    {
     "data": {
      "text/plain": [
       "{'children': [<__main__.SearchTreeNode at 0x22ad9b31fd0>],\n",
       " 'ply_depth': 0,\n",
       " 'max_depth': 7,\n",
       " 'node_terminal': False,\n",
       " 'node_trap': False,\n",
       " 'node_value': None,\n",
       " 'game_at_this_node': <__main__.CurrentBoard at 0x22ad9b31e10>,\n",
       " 'comp_first': True}"
      ]
     },
     "execution_count": 43,
     "metadata": {},
     "output_type": "execute_result"
    }
   ],
   "source": [
    "# board filled with: 1, 2 and few available moves\n",
    "board=np.array([2, 2, 2, 1, 1, 2, 2,\n",
    "                1, 2, 1, 2, 1, 1, 1,\n",
    "                2, 2, 2, 1, 1, 2, 1,\n",
    "                2, 1, 2, 1, 2, 2, 1,\n",
    "                2, 1, 2, 1, 1, 1, 2,\n",
    "                1, 2, 0, 2, 1, 1, 2], dtype=int)\n",
    "cb = CurrentBoard(board, count_move=41, index=41, player_at_this_level=1)\n",
    "stn = SearchTreeNode(Current_Game=cb, max_depth=7)\n",
    "\n",
    "stn.game_at_this_node.display_game_board()\n",
    "print('CurrentBoard at this node properties:')\n",
    "vars(stn)"
   ]
  },
  {
   "cell_type": "code",
   "execution_count": 44,
   "metadata": {},
   "outputs": [
    {
     "data": {
      "text/plain": [
       "{'children': [],\n",
       " 'ply_depth': 1,\n",
       " 'max_depth': 7,\n",
       " 'node_terminal': True,\n",
       " 'node_trap': False,\n",
       " 'node_value': None,\n",
       " 'game_at_this_node': <__main__.CurrentBoard at 0x22ad9b31f60>,\n",
       " 'comp_first': True}"
      ]
     },
     "execution_count": 44,
     "metadata": {},
     "output_type": "execute_result"
    }
   ],
   "source": [
    "# Expected:\n",
    "# children': []\n",
    "# 'node_terminal': True,\n",
    "# 'node_value': None,\n",
    "\n",
    "vars(stn.children[0])"
   ]
  },
  {
   "cell_type": "markdown",
   "metadata": {},
   "source": [
    "### Test 4) draw situation"
   ]
  },
  {
   "cell_type": "code",
   "execution_count": 45,
   "metadata": {},
   "outputs": [
    {
     "name": "stdout",
     "output_type": "stream",
     "text": [
      "| 1| 2| 3| 4| 5| 6| 7|\n",
      "======================\n",
      "| 1| 2| 1| 2|  | 1| 2|\n",
      "----------------------\n",
      "| 2| 1| 2| 1| 1| 1| 2|\n",
      "----------------------\n",
      "| 2| 1| 2| 1| 2| 2| 1|\n",
      "----------------------\n",
      "| 2| 2| 2| 1| 1| 2| 1|\n",
      "----------------------\n",
      "| 1| 2| 1| 2| 1| 1| 1|\n",
      "----------------------\n",
      "| 2| 2| 2| 1| 1| 2| 2|\n",
      "----------------------\n",
      "CurrentBoard at this node properties:\n"
     ]
    },
    {
     "data": {
      "text/plain": [
       "{'children': [<__main__.SearchTreeNode at 0x22ad9b516a0>],\n",
       " 'ply_depth': 0,\n",
       " 'max_depth': 7,\n",
       " 'node_terminal': False,\n",
       " 'node_trap': False,\n",
       " 'node_value': None,\n",
       " 'game_at_this_node': <__main__.CurrentBoard at 0x22ad9b51550>,\n",
       " 'comp_first': True}"
      ]
     },
     "execution_count": 45,
     "metadata": {},
     "output_type": "execute_result"
    }
   ],
   "source": [
    "# board filled with: 1, 2 and few available moves\n",
    "board=np.array([2, 2, 2, 1, 1, 2, 2,\n",
    "                1, 2, 1, 2, 1, 1, 1,\n",
    "                2, 2, 2, 1, 1, 2, 1,\n",
    "                2, 1, 2, 1, 2, 2, 1,\n",
    "                2, 1, 2, 1, 1, 1, 2,\n",
    "                1, 2, 1, 2, 0, 1, 2], dtype=int)\n",
    "cb = CurrentBoard(board, count_move=41, index=41, player_at_this_level=1)\n",
    "stn = SearchTreeNode(Current_Game=cb, max_depth=7)\n",
    "\n",
    "stn.game_at_this_node.display_game_board()\n",
    "print('CurrentBoard at this node properties:')\n",
    "vars(stn)"
   ]
  },
  {
   "cell_type": "code",
   "execution_count": 46,
   "metadata": {},
   "outputs": [
    {
     "data": {
      "text/plain": [
       "{'children': [],\n",
       " 'ply_depth': 1,\n",
       " 'max_depth': 7,\n",
       " 'node_terminal': True,\n",
       " 'node_trap': False,\n",
       " 'node_value': None,\n",
       " 'game_at_this_node': <__main__.CurrentBoard at 0x22ad9b51668>,\n",
       " 'comp_first': True}"
      ]
     },
     "execution_count": 46,
     "metadata": {},
     "output_type": "execute_result"
    }
   ],
   "source": [
    "# Expected:\n",
    "# children': []\n",
    "# 'node_terminal': True,\n",
    "# 'node_value': None,\n",
    "\n",
    "vars(stn.children[0])"
   ]
  },
  {
   "cell_type": "markdown",
   "metadata": {},
   "source": [
    "## TEST min_max() and get_next_move()"
   ]
  },
  {
   "cell_type": "markdown",
   "metadata": {},
   "source": [
    "### Test 1) Default SearchTreeNode\n",
    "### Test 1a) min_max()"
   ]
  },
  {
   "cell_type": "code",
   "execution_count": 47,
   "metadata": {},
   "outputs": [
    {
     "data": {
      "text/plain": [
       "{'children': [<__main__.SearchTreeNode at 0x22ad9b2b278>,\n",
       "  <__main__.SearchTreeNode at 0x22ad9b70940>,\n",
       "  <__main__.SearchTreeNode at 0x22ad9b31da0>,\n",
       "  <__main__.SearchTreeNode at 0x22ad9b319e8>],\n",
       " 'ply_depth': 0,\n",
       " 'max_depth': 3,\n",
       " 'node_terminal': False,\n",
       " 'node_trap': False,\n",
       " 'node_value': 9,\n",
       " 'game_at_this_node': <__main__.CurrentBoard at 0x22ad9b314e0>,\n",
       " 'comp_first': True}"
      ]
     },
     "execution_count": 47,
     "metadata": {},
     "output_type": "execute_result"
    }
   ],
   "source": [
    "stn = SearchTreeNode(max_depth=3) # default SearchTreeNode with max_depth=3\n",
    "stn.min_max()\n",
    "# Expected:\n",
    "# 'node_terminal': False,\n",
    "# 'node_value': 10, (may be different if the eval function is changed)\n",
    "\n",
    "vars(stn)"
   ]
  },
  {
   "cell_type": "code",
   "execution_count": 48,
   "metadata": {},
   "outputs": [
    {
     "name": "stdout",
     "output_type": "stream",
     "text": [
      "PARENT: node_terminal: False; node_value: 9\n",
      "CHILD: node_terminal: False; node_value: 9\n",
      "CHILD: node_terminal: False; node_value: 7\n",
      "CHILD: node_terminal: False; node_value: 5\n",
      "CHILD: node_terminal: False; node_value: 6\n"
     ]
    }
   ],
   "source": [
    "# Test the max layer\n",
    "# Expected:\n",
    "# the node_value of a parent node and node_value of one of his child should have equal value\n",
    "# and the node_value of that child should be the max node_value of all children\n",
    "\n",
    "# 'node_terminal': False,\n",
    "# 'node_value': 10, (may be different if the eval function is changed) - the same value as stn.node_value\n",
    "print('PARENT: node_terminal: {}; node_value: {}'.format(stn.node_terminal, stn.node_value))\n",
    "\n",
    "for child in stn.children:\n",
    "    print('CHILD: node_terminal: {}; node_value: {}'.format(child.node_terminal, child.node_value))"
   ]
  },
  {
   "cell_type": "code",
   "execution_count": 49,
   "metadata": {
    "scrolled": true
   },
   "outputs": [
    {
     "name": "stdout",
     "output_type": "stream",
     "text": [
      "PARENT: node_terminal: False; node_value: 9\n",
      "CHILD: node_terminal: False; node_value: 12\n",
      "CHILD: node_terminal: False; node_value: 9\n",
      "CHILD: node_terminal: False; node_value: 9\n",
      "CHILD: node_terminal: False; node_value: 9\n"
     ]
    }
   ],
   "source": [
    "# Test the min layer\n",
    "# Expected:\n",
    "# the node_value of a parent node and node_value of one of his child should have equal value\n",
    "# and the node_value of that child should be the min node_value of all children\n",
    "\n",
    "# 'node_terminal': False,\n",
    "# 'node_value': 10, (may be different if the eval function is changed) - the same value as stn.node_value\n",
    "\n",
    "for parent in stn.children:\n",
    "    if parent.node_value == stn.node_value:\n",
    "        print('PARENT: node_terminal: {}; node_value: {}'.format(parent.node_terminal, parent.node_value))\n",
    "        for child in parent.children:\n",
    "            print('CHILD: node_terminal: {}; node_value: {}'.format(child.node_terminal, child.node_value))\n"
   ]
  },
  {
   "cell_type": "markdown",
   "metadata": {},
   "source": [
    "### Test 1b) get_next_move()"
   ]
  },
  {
   "cell_type": "code",
   "execution_count": 50,
   "metadata": {},
   "outputs": [
    {
     "data": {
      "text/plain": [
       "{'children': [<__main__.SearchTreeNode at 0x22ad9b3f390>,\n",
       "  <__main__.SearchTreeNode at 0x22ad9b3f048>,\n",
       "  <__main__.SearchTreeNode at 0x22ad9b3acc0>,\n",
       "  <__main__.SearchTreeNode at 0x22ad9b3ab00>],\n",
       " 'ply_depth': 1,\n",
       " 'max_depth': 3,\n",
       " 'node_terminal': False,\n",
       " 'node_trap': False,\n",
       " 'node_value': 9,\n",
       " 'game_at_this_node': <__main__.CurrentBoard at 0x22ad9b31a90>,\n",
       " 'comp_first': True}"
      ]
     },
     "execution_count": 50,
     "metadata": {},
     "output_type": "execute_result"
    }
   ],
   "source": [
    "# Expected: the SearchTreeNode\n",
    "vars(stn.get_next_move())"
   ]
  },
  {
   "cell_type": "code",
   "execution_count": 51,
   "metadata": {},
   "outputs": [
    {
     "data": {
      "text/plain": [
       "True"
      ]
     },
     "execution_count": 51,
     "metadata": {},
     "output_type": "execute_result"
    }
   ],
   "source": [
    "# Expected: True\n",
    "stn.node_value == stn.get_next_move().node_value "
   ]
  },
  {
   "cell_type": "code",
   "execution_count": 52,
   "metadata": {},
   "outputs": [
    {
     "name": "stdout",
     "output_type": "stream",
     "text": [
      "| 1| 2| 3| 4| 5| 6| 7|\n",
      "======================\n",
      "|  |  |  |  |  |  |  |\n",
      "----------------------\n",
      "|  |  |  |  |  |  |  |\n",
      "----------------------\n",
      "|  |  |  |  |  |  |  |\n",
      "----------------------\n",
      "|  |  |  |  |  |  |  |\n",
      "----------------------\n",
      "|  |  |  |  |  |  |  |\n",
      "----------------------\n",
      "|  |  |  | 1|  |  |  |\n",
      "----------------------\n"
     ]
    }
   ],
   "source": [
    "# Expected: the first move in the middle of the bottom row. It is the only position that guarantees winning of a game\n",
    "stn.get_next_move().game_at_this_node.display_game_board()"
   ]
  },
  {
   "cell_type": "markdown",
   "metadata": {},
   "source": [
    "### Test 2) Win situation for player 1\n",
    "- index is from 0 to 41, count_move is from 0 to 42 including 42.\n",
    "- player_1 makes first move, meaning that player_1 is on odd count_move, player_2 is on even count_move\n",
    "### Test 2a) min_max()\n",
    "- the root node is a max layer\n"
   ]
  },
  {
   "cell_type": "code",
   "execution_count": 53,
   "metadata": {},
   "outputs": [
    {
     "name": "stdout",
     "output_type": "stream",
     "text": [
      "| 1| 2| 3| 4| 5| 6| 7|\n",
      "======================\n",
      "| 1| 2| 1|  |  | 1| 2|\n",
      "----------------------\n",
      "| 2| 1| 2| 1| 1| 1| 2|\n",
      "----------------------\n",
      "| 2| 1| 2| 1| 2| 2| 1|\n",
      "----------------------\n",
      "| 2| 2| 2| 1| 1| 2| 1|\n",
      "----------------------\n",
      "| 1| 2| 1| 2| 1| 1| 1|\n",
      "----------------------\n",
      "| 2| 2| 2| 1| 1| 2| 2|\n",
      "----------------------\n"
     ]
    },
    {
     "data": {
      "text/plain": [
       "{'children': [<__main__.SearchTreeNode at 0x22ad9bdcba8>,\n",
       "  <__main__.SearchTreeNode at 0x22ad9bdcbe0>],\n",
       " 'ply_depth': 0,\n",
       " 'max_depth': 4,\n",
       " 'node_terminal': False,\n",
       " 'node_trap': False,\n",
       " 'node_value': 9223372036854775807,\n",
       " 'game_at_this_node': <__main__.CurrentBoard at 0x22ad9bdca58>,\n",
       " 'comp_first': True}"
      ]
     },
     "execution_count": 53,
     "metadata": {},
     "output_type": "execute_result"
    }
   ],
   "source": [
    "# board filled with: 1, 2 and few available moves\n",
    "board=np.array([2, 2, 2, 1, 1, 2, 2,\n",
    "                1, 2, 1, 2, 1, 1, 1,\n",
    "                2, 2, 2, 1, 1, 2, 1,\n",
    "                2, 1, 2, 1, 2, 2, 1,\n",
    "                2, 1, 2, 1, 1, 1, 2,\n",
    "                1, 2, 1, 0, 0, 1, 2], dtype=int)\n",
    "cb = CurrentBoard(board, count_move=40, index=41, player_at_this_level=2)\n",
    "stn = SearchTreeNode(Current_Game=cb)\n",
    "stn.game_at_this_node.display_game_board()\n",
    "\n",
    "stn.min_max()\n",
    "# Expected:\n",
    "# 'node_terminal': False,\n",
    "# 'node_value': 9223372036854775807\n",
    "\n",
    "vars(stn)"
   ]
  },
  {
   "cell_type": "code",
   "execution_count": 54,
   "metadata": {},
   "outputs": [
    {
     "name": "stdout",
     "output_type": "stream",
     "text": [
      "PARENT: node_terminal: False; node_value: 9223372036854775807\n",
      "CHILD: node_terminal: True; node_value: 9223372036854775807\n",
      "CHILD: node_terminal: False; node_value: 0\n"
     ]
    }
   ],
   "source": [
    "# Test the max layer\n",
    "# Expected:\n",
    "# the node_value of a parent node and node_value of one of his child should have equal value\n",
    "# and the node_value of that child should be the max node_value of all children\n",
    "# and the node_terminal of that child should be True\n",
    "\n",
    "# 'node_terminal': False,\n",
    "# 'node_value': 9223372036854775807, (may be different if the eval function is changed) - the same value as stn.node_value\n",
    "print('PARENT: node_terminal: {}; node_value: {}'.format(stn.node_terminal, stn.node_value))\n",
    "\n",
    "for child in stn.children:\n",
    "    print('CHILD: node_terminal: {}; node_value: {}'.format(child.node_terminal, child.node_value))"
   ]
  },
  {
   "cell_type": "markdown",
   "metadata": {},
   "source": [
    "### Test 2b) get_next_move()"
   ]
  },
  {
   "cell_type": "code",
   "execution_count": 55,
   "metadata": {},
   "outputs": [
    {
     "data": {
      "text/plain": [
       "{'children': [],\n",
       " 'ply_depth': 1,\n",
       " 'max_depth': 4,\n",
       " 'node_terminal': True,\n",
       " 'node_trap': False,\n",
       " 'node_value': 9223372036854775807,\n",
       " 'game_at_this_node': <__main__.CurrentBoard at 0x22ad9bdcb38>,\n",
       " 'comp_first': True}"
      ]
     },
     "execution_count": 55,
     "metadata": {},
     "output_type": "execute_result"
    }
   ],
   "source": [
    "# Expected: the SearchTreeNode\n",
    "# 'node_terminal': True,\n",
    "# 'node_value': 9223372036854775807,\n",
    "vars(stn.get_next_move())"
   ]
  },
  {
   "cell_type": "code",
   "execution_count": 56,
   "metadata": {},
   "outputs": [
    {
     "data": {
      "text/plain": [
       "True"
      ]
     },
     "execution_count": 56,
     "metadata": {},
     "output_type": "execute_result"
    }
   ],
   "source": [
    "# Expected: True\n",
    "stn.node_value == stn.get_next_move().node_value "
   ]
  },
  {
   "cell_type": "markdown",
   "metadata": {},
   "source": [
    "### Test 3) Lose situation for player 1 / Win situation for player 2\n",
    "- index is from 0 to 41, count_move is from 0 to 42 including 42.\n",
    "- player_1 makes first move, meaning that player_1 is on odd count_move, player_2 is on even count_move\n",
    "### Test 3a) min_max()\n",
    "- the root node is a min layer"
   ]
  },
  {
   "cell_type": "code",
   "execution_count": 57,
   "metadata": {},
   "outputs": [
    {
     "name": "stdout",
     "output_type": "stream",
     "text": [
      "| 1| 2| 3| 4| 5| 6| 7|\n",
      "======================\n",
      "| 1| 2|  | 2|  |  | 1|\n",
      "----------------------\n",
      "| 2| 1| 2| 1| 1| 1| 2|\n",
      "----------------------\n",
      "| 2| 1| 2| 1| 2| 2| 1|\n",
      "----------------------\n",
      "| 2| 2| 2| 1| 1| 2| 1|\n",
      "----------------------\n",
      "| 1| 2| 1| 2| 1| 1| 1|\n",
      "----------------------\n",
      "| 2| 2| 2| 1| 1| 2| 2|\n",
      "----------------------\n"
     ]
    },
    {
     "data": {
      "text/plain": [
       "{'children': [<__main__.SearchTreeNode at 0x22ad9be2ac8>,\n",
       "  <__main__.SearchTreeNode at 0x22ad9be2b00>,\n",
       "  <__main__.SearchTreeNode at 0x22ad9be2ba8>],\n",
       " 'ply_depth': 0,\n",
       " 'max_depth': 4,\n",
       " 'node_terminal': False,\n",
       " 'node_trap': False,\n",
       " 'node_value': -9223372036854775807,\n",
       " 'game_at_this_node': <__main__.CurrentBoard at 0x22ad9be2940>,\n",
       " 'comp_first': True}"
      ]
     },
     "execution_count": 57,
     "metadata": {},
     "output_type": "execute_result"
    }
   ],
   "source": [
    "board=np.array([2, 2, 2, 1, 1, 2, 2,\n",
    "                1, 2, 1, 2, 1, 1, 1,\n",
    "                2, 2, 2, 1, 1, 2, 1,\n",
    "                2, 1, 2, 1, 2, 2, 1,\n",
    "                2, 1, 2, 1, 1, 1, 2,\n",
    "                1, 2, 0, 2, 0, 0, 1], dtype=int)\n",
    "cb = CurrentBoard(board, count_move=39, index=41, player_at_this_level=1)\n",
    "stn = SearchTreeNode(Current_Game=cb)\n",
    "stn.game_at_this_node.display_game_board()\n",
    "\n",
    "stn.min_max(is_max=False)\n",
    "# Expected:\n",
    "# 'node_terminal': False,\n",
    "# 'node_value': -9223372036854775807\n",
    "\n",
    "vars(stn)"
   ]
  },
  {
   "cell_type": "code",
   "execution_count": 58,
   "metadata": {},
   "outputs": [
    {
     "name": "stdout",
     "output_type": "stream",
     "text": [
      "PARENT: node_terminal: False; node_value: -9223372036854775807\n",
      "CHILD: node_terminal: True; node_value: -9223372036854775807\n",
      "CHILD: node_terminal: False; node_value: 0\n",
      "CHILD: node_terminal: False; node_value: 0\n"
     ]
    }
   ],
   "source": [
    "# Test the min layer\n",
    "# Expected:\n",
    "# the node_value of a parent node and node_value of one of his child should have equal value\n",
    "# and the node_value of that child should be the min node_value of all children\n",
    "# and the node_terminal of that child should be True\n",
    "\n",
    "# 'node_terminal': False,\n",
    "# 'node_value': -9223372036854775807, (may be different if the eval function is changed) - the same value as stn.node_value\n",
    "print('PARENT: node_terminal: {}; node_value: {}'.format(stn.node_terminal, stn.node_value))\n",
    "\n",
    "for child in stn.children:\n",
    "    print('CHILD: node_terminal: {}; node_value: {}'.format(child.node_terminal, child.node_value))"
   ]
  },
  {
   "cell_type": "markdown",
   "metadata": {},
   "source": [
    "### Test 3b) get_next_move()"
   ]
  },
  {
   "cell_type": "code",
   "execution_count": 59,
   "metadata": {},
   "outputs": [
    {
     "data": {
      "text/plain": [
       "{'children': [],\n",
       " 'ply_depth': 1,\n",
       " 'max_depth': 4,\n",
       " 'node_terminal': True,\n",
       " 'node_trap': False,\n",
       " 'node_value': -9223372036854775807,\n",
       " 'game_at_this_node': <__main__.CurrentBoard at 0x22ad9be2a20>,\n",
       " 'comp_first': True}"
      ]
     },
     "execution_count": 59,
     "metadata": {},
     "output_type": "execute_result"
    }
   ],
   "source": [
    "# Expected: the SearchTreeNode\n",
    "# 'node_terminal': True,\n",
    "# 'node_value': -9223372036854775807,\n",
    "vars(stn.get_next_move())"
   ]
  },
  {
   "cell_type": "code",
   "execution_count": 60,
   "metadata": {},
   "outputs": [
    {
     "data": {
      "text/plain": [
       "True"
      ]
     },
     "execution_count": 60,
     "metadata": {},
     "output_type": "execute_result"
    }
   ],
   "source": [
    "# Expected: True\n",
    "stn.node_value == stn.get_next_move().node_value "
   ]
  },
  {
   "cell_type": "markdown",
   "metadata": {},
   "source": [
    "### Test 4) draw situation\n",
    "- index is from 0 to 41, count_move is from 0 to 42 including 42.\n",
    "- player_1 makes first move, meaning that player_1 is on odd count_move, player_2 is on even count_move\n",
    "### Test 4a) min_max()\n",
    "- the root node is a max layer"
   ]
  },
  {
   "cell_type": "code",
   "execution_count": 61,
   "metadata": {},
   "outputs": [
    {
     "name": "stdout",
     "output_type": "stream",
     "text": [
      "| 1| 2| 3| 4| 5| 6| 7|\n",
      "======================\n",
      "| 1| 2| 1| 2|  | 1| 2|\n",
      "----------------------\n",
      "| 2| 1| 2| 1| 1| 1| 2|\n",
      "----------------------\n",
      "| 2| 1| 2| 1| 2| 2| 1|\n",
      "----------------------\n",
      "| 2| 2| 2| 1| 1| 2| 1|\n",
      "----------------------\n",
      "| 1| 2| 1| 2| 1| 1| 1|\n",
      "----------------------\n",
      "| 2| 2| 2| 1| 1| 2| 2|\n",
      "----------------------\n"
     ]
    },
    {
     "data": {
      "text/plain": [
       "{'children': [<__main__.SearchTreeNode at 0x22ad9b79ba8>],\n",
       " 'ply_depth': 0,\n",
       " 'max_depth': 4,\n",
       " 'node_terminal': False,\n",
       " 'node_trap': False,\n",
       " 'node_value': 0,\n",
       " 'game_at_this_node': <__main__.CurrentBoard at 0x22ad9b79a90>,\n",
       " 'comp_first': True}"
      ]
     },
     "execution_count": 61,
     "metadata": {},
     "output_type": "execute_result"
    }
   ],
   "source": [
    "board = np.array([2, 2, 2, 1, 1, 2, 2,\n",
    "                    1, 2, 1, 2, 1, 1, 1,\n",
    "                    2, 2, 2, 1, 1, 2, 1,\n",
    "                    2, 1, 2, 1, 2, 2, 1,\n",
    "                    2, 1, 2, 1, 1, 1, 2,\n",
    "                    1, 2, 1, 2, 0, 1, 2], dtype=int)\n",
    "\n",
    "cb = CurrentBoard(setup_of_board=board, count_move=41, index=40 , player_at_this_level=1)\n",
    "stn = SearchTreeNode(Current_Game=cb)\n",
    "stn.game_at_this_node.display_game_board()\n",
    "\n",
    "stn.min_max(is_max=False)\n",
    "# Expected:\n",
    "# 'node_terminal': False,\n",
    "# 'node_value': 0\n",
    "\n",
    "vars(stn)"
   ]
  },
  {
   "cell_type": "code",
   "execution_count": 62,
   "metadata": {},
   "outputs": [
    {
     "name": "stdout",
     "output_type": "stream",
     "text": [
      "PARENT: node_terminal: False; node_value: 0\n",
      "CHILD: node_terminal: True; node_value: 0\n"
     ]
    }
   ],
   "source": [
    "# Test the max layer\n",
    "# Expected:\n",
    "# the node_value of a parent node and node_value of one of his child should have equal value\n",
    "# and the node_value of that child should be the max node_value of all children\n",
    "# and the node_terminal of that child should be True\n",
    "\n",
    "# 'node_terminal': False,\n",
    "# 'node_value': 0, (may be different if the eval function is changed) - the same value as stn.node_value\n",
    "print('PARENT: node_terminal: {}; node_value: {}'.format(stn.node_terminal, stn.node_value))\n",
    "\n",
    "for child in stn.children:\n",
    "    print('CHILD: node_terminal: {}; node_value: {}'.format(child.node_terminal, child.node_value))"
   ]
  },
  {
   "cell_type": "markdown",
   "metadata": {},
   "source": [
    "### Test 4b) get_next_move()"
   ]
  },
  {
   "cell_type": "code",
   "execution_count": 63,
   "metadata": {},
   "outputs": [
    {
     "data": {
      "text/plain": [
       "{'children': [],\n",
       " 'ply_depth': 1,\n",
       " 'max_depth': 4,\n",
       " 'node_terminal': True,\n",
       " 'node_trap': False,\n",
       " 'node_value': 0,\n",
       " 'game_at_this_node': <__main__.CurrentBoard at 0x22ad9b79b70>,\n",
       " 'comp_first': True}"
      ]
     },
     "execution_count": 63,
     "metadata": {},
     "output_type": "execute_result"
    }
   ],
   "source": [
    "# Expected: the SearchTreeNode\n",
    "# 'node_terminal': True,\n",
    "# 'node_value': 0,\n",
    "vars(stn.get_next_move())"
   ]
  },
  {
   "cell_type": "code",
   "execution_count": 64,
   "metadata": {},
   "outputs": [
    {
     "data": {
      "text/plain": [
       "True"
      ]
     },
     "execution_count": 64,
     "metadata": {},
     "output_type": "execute_result"
    }
   ],
   "source": [
    "# Expected: True\n",
    "stn.node_value == stn.get_next_move().node_value "
   ]
  },
  {
   "cell_type": "markdown",
   "metadata": {},
   "source": [
    "# Test min_max_alpha_beta()\n",
    "\n",
    "Check the tree_size before and after running max_min_alpha_beta().\n",
    "Expected: the tree size should be smaller after running min_max_alpha_beta()"
   ]
  },
  {
   "cell_type": "markdown",
   "metadata": {},
   "source": [
    "### Test 1) Default SearchTreeNode\n",
    "### Test 1a) min_max_alpha_beta()"
   ]
  },
  {
   "cell_type": "code",
   "execution_count": 65,
   "metadata": {},
   "outputs": [],
   "source": [
    "stn = SearchTreeNode(max_depth=3) # default SearchTreeNode with max_depth=3\n",
    "size_before = stn.tree_size()"
   ]
  },
  {
   "cell_type": "code",
   "execution_count": 66,
   "metadata": {},
   "outputs": [
    {
     "data": {
      "text/plain": [
       "{'children': [<__main__.SearchTreeNode at 0x22ad9bf0e10>,\n",
       "  <__main__.SearchTreeNode at 0x22ad9be9518>,\n",
       "  <__main__.SearchTreeNode at 0x22ad9b799b0>,\n",
       "  <__main__.SearchTreeNode at 0x22ad9b797f0>],\n",
       " 'ply_depth': 0,\n",
       " 'max_depth': 3,\n",
       " 'node_terminal': False,\n",
       " 'node_trap': False,\n",
       " 'node_value': 9,\n",
       " 'game_at_this_node': <__main__.CurrentBoard at 0x22ad9b79668>,\n",
       " 'comp_first': True}"
      ]
     },
     "execution_count": 66,
     "metadata": {},
     "output_type": "execute_result"
    }
   ],
   "source": [
    "stn.min_max_alpha_beta()\n",
    "\n",
    "size_after = stn.tree_size()\n",
    "# Expected:\n",
    "# 'node_terminal': False,\n",
    "# 'node_value': 10, (may be different if the eval function is changed)\n",
    "\n",
    "vars(stn)"
   ]
  },
  {
   "cell_type": "code",
   "execution_count": 67,
   "metadata": {},
   "outputs": [
    {
     "name": "stdout",
     "output_type": "stream",
     "text": [
      "PARENT: node_terminal: False; node_value: 9\n",
      "CHILD: node_terminal: False; node_value: 9\n",
      "CHILD: node_terminal: False; node_value: 9\n",
      "CHILD: node_terminal: False; node_value: 7\n",
      "CHILD: node_terminal: False; node_value: 8\n"
     ]
    }
   ],
   "source": [
    "# Test the max layer\n",
    "# Expected:\n",
    "# the node_value of a parent node and node_value of one of his child should have equal value\n",
    "# and the node_value of that child should be the max node_value of all children\n",
    "\n",
    "# 'node_terminal': False,\n",
    "# 'node_value':  (may be different if the eval function is changed) - the same value as stn.node_value\n",
    "print('PARENT: node_terminal: {}; node_value: {}'.format(stn.node_terminal, stn.node_value))\n",
    "\n",
    "for child in stn.children:\n",
    "    print('CHILD: node_terminal: {}; node_value: {}'.format(child.node_terminal, child.node_value))"
   ]
  },
  {
   "cell_type": "code",
   "execution_count": 68,
   "metadata": {
    "scrolled": true
   },
   "outputs": [
    {
     "name": "stdout",
     "output_type": "stream",
     "text": [
      "PARENT: node_terminal: False; node_value: 9\n",
      "CHILD: node_terminal: False; node_value: 12\n",
      "CHILD: node_terminal: False; node_value: 9\n",
      "CHILD: node_terminal: False; node_value: 9\n",
      "CHILD: node_terminal: False; node_value: 9\n",
      "PARENT: node_terminal: False; node_value: 9\n",
      "CHILD: node_terminal: False; node_value: 10\n",
      "CHILD: node_terminal: False; node_value: 9\n"
     ]
    }
   ],
   "source": [
    "# Test the min layer\n",
    "# Expected:\n",
    "# the node_value of a parent node and node_value of one of his child should have equal value\n",
    "# and the node_value of that child should be the min node_value of all children\n",
    "\n",
    "# 'node_terminal': False,\n",
    "# 'node_value':  (may be different if the eval function is changed) - the same value as stn.node_value\n",
    "\n",
    "for parent in stn.children:\n",
    "    if parent.node_value == stn.node_value:\n",
    "        print('PARENT: node_terminal: {}; node_value: {}'.format(parent.node_terminal, parent.node_value))\n",
    "        for child in parent.children:\n",
    "            print('CHILD: node_terminal: {}; node_value: {}'.format(child.node_terminal, child.node_value))\n"
   ]
  },
  {
   "cell_type": "markdown",
   "metadata": {},
   "source": [
    "### Test 1a.a) Check the size befor and after pruning"
   ]
  },
  {
   "cell_type": "code",
   "execution_count": 69,
   "metadata": {},
   "outputs": [
    {
     "name": "stdout",
     "output_type": "stream",
     "text": [
      "size_before: 201; size_after: 69\n"
     ]
    },
    {
     "data": {
      "text/plain": [
       "True"
      ]
     },
     "execution_count": 69,
     "metadata": {},
     "output_type": "execute_result"
    }
   ],
   "source": [
    "#Expected: True\n",
    "print('size_before: {}; size_after: {}'.format(size_before, size_after))\n",
    "size_before > size_after"
   ]
  },
  {
   "cell_type": "markdown",
   "metadata": {},
   "source": [
    "### Test 1b) get_next_move()"
   ]
  },
  {
   "cell_type": "code",
   "execution_count": 70,
   "metadata": {},
   "outputs": [
    {
     "data": {
      "text/plain": [
       "{'children': [<__main__.SearchTreeNode at 0x22ad9bfaf28>,\n",
       "  <__main__.SearchTreeNode at 0x22ad9bfabe0>,\n",
       "  <__main__.SearchTreeNode at 0x22ad9bfa898>,\n",
       "  <__main__.SearchTreeNode at 0x22ad9bfa6d8>],\n",
       " 'ply_depth': 1,\n",
       " 'max_depth': 3,\n",
       " 'node_terminal': False,\n",
       " 'node_trap': False,\n",
       " 'node_value': 9,\n",
       " 'game_at_this_node': <__main__.CurrentBoard at 0x22ad9b79780>,\n",
       " 'comp_first': True}"
      ]
     },
     "execution_count": 70,
     "metadata": {},
     "output_type": "execute_result"
    }
   ],
   "source": [
    "# Expected: the SearchTreeNode\n",
    "vars(stn.get_next_move())"
   ]
  },
  {
   "cell_type": "code",
   "execution_count": 71,
   "metadata": {},
   "outputs": [
    {
     "data": {
      "text/plain": [
       "True"
      ]
     },
     "execution_count": 71,
     "metadata": {},
     "output_type": "execute_result"
    }
   ],
   "source": [
    "# Expected: True\n",
    "stn.node_value == stn.get_next_move().node_value "
   ]
  },
  {
   "cell_type": "code",
   "execution_count": 72,
   "metadata": {},
   "outputs": [
    {
     "name": "stdout",
     "output_type": "stream",
     "text": [
      "| 1| 2| 3| 4| 5| 6| 7|\n",
      "======================\n",
      "|  |  |  |  |  |  |  |\n",
      "----------------------\n",
      "|  |  |  |  |  |  |  |\n",
      "----------------------\n",
      "|  |  |  |  |  |  |  |\n",
      "----------------------\n",
      "|  |  |  |  |  |  |  |\n",
      "----------------------\n",
      "|  |  |  |  |  |  |  |\n",
      "----------------------\n",
      "|  |  |  | 1|  |  |  |\n",
      "----------------------\n"
     ]
    }
   ],
   "source": [
    "# Expected: the first move in the middle of the bottom row. It is the only position that guarantees winning of a game\n",
    "stn.get_next_move().game_at_this_node.display_game_board()"
   ]
  },
  {
   "cell_type": "markdown",
   "metadata": {},
   "source": [
    "### Test 2) Win situation for player 1\n",
    "- index is from 0 to 41, count_move is from 0 to 42 including 42.\n",
    "- player_1 makes first move, meaning that player_1 is on odd count_move, player_2 is on even count_move\n",
    "### Test 2a) min_max_alpha_beta()\n",
    "- the root node is a max layer\n"
   ]
  },
  {
   "cell_type": "code",
   "execution_count": 73,
   "metadata": {},
   "outputs": [
    {
     "name": "stdout",
     "output_type": "stream",
     "text": [
      "| 1| 2| 3| 4| 5| 6| 7|\n",
      "======================\n",
      "| 1| 2| 1|  |  | 1| 2|\n",
      "----------------------\n",
      "| 2| 1| 2| 1| 1| 1| 2|\n",
      "----------------------\n",
      "| 2| 1| 2| 1| 2| 2| 1|\n",
      "----------------------\n",
      "| 2| 2| 2| 1| 1| 2| 1|\n",
      "----------------------\n",
      "| 1| 2| 1| 2| 1| 1| 1|\n",
      "----------------------\n",
      "| 2| 2| 2| 1| 1| 2| 2|\n",
      "----------------------\n"
     ]
    },
    {
     "data": {
      "text/plain": [
       "{'children': [<__main__.SearchTreeNode at 0x22ad9b07be0>],\n",
       " 'ply_depth': 0,\n",
       " 'max_depth': 4,\n",
       " 'node_terminal': False,\n",
       " 'node_trap': False,\n",
       " 'node_value': 9223372036854775807,\n",
       " 'game_at_this_node': <__main__.CurrentBoard at 0x22ad9ba1da0>,\n",
       " 'comp_first': True}"
      ]
     },
     "execution_count": 73,
     "metadata": {},
     "output_type": "execute_result"
    }
   ],
   "source": [
    "# board filled with: 1, 2 and few available moves\n",
    "board=np.array([2, 2, 2, 1, 1, 2, 2,\n",
    "                1, 2, 1, 2, 1, 1, 1,\n",
    "                2, 2, 2, 1, 1, 2, 1,\n",
    "                2, 1, 2, 1, 2, 2, 1,\n",
    "                2, 1, 2, 1, 1, 1, 2,\n",
    "                1, 2, 1, 0, 0, 1, 2], dtype=int)\n",
    "cb = CurrentBoard(board, count_move=40, index=41, player_at_this_level=2)\n",
    "stn = SearchTreeNode(Current_Game=cb)\n",
    "stn.game_at_this_node.display_game_board()\n",
    "\n",
    "stn.min_max_alpha_beta()\n",
    "# Expected:\n",
    "# 'node_terminal': False,\n",
    "# 'node_value': 9223372036854775807\n",
    "\n",
    "vars(stn)"
   ]
  },
  {
   "cell_type": "code",
   "execution_count": 74,
   "metadata": {},
   "outputs": [
    {
     "name": "stdout",
     "output_type": "stream",
     "text": [
      "PARENT: node_terminal: False; node_value: 9223372036854775807\n",
      "CHILD: node_terminal: True; node_value: 9223372036854775807\n"
     ]
    }
   ],
   "source": [
    "# Test the max layer\n",
    "# Expected:\n",
    "# the node_value of a parent node and node_value of one of his child should have equal value\n",
    "# and the node_value of that child should be the max node_value of all children\n",
    "# and the node_terminal of that child should be True\n",
    "\n",
    "# 'node_terminal': False,\n",
    "# 'node_value': 9223372036854775807, (may be different if the eval function is changed) - the same value as stn.node_value\n",
    "print('PARENT: node_terminal: {}; node_value: {}'.format(stn.node_terminal, stn.node_value))\n",
    "\n",
    "# 'node_terminal': True,\n",
    "# 'node_value': 9223372036854775807, (may be different if the eval function is changed) - the same value as stn.node_value\n",
    "for child in stn.children:\n",
    "    print('CHILD: node_terminal: {}; node_value: {}'.format(child.node_terminal, child.node_value))"
   ]
  },
  {
   "cell_type": "markdown",
   "metadata": {},
   "source": [
    "### Test 2b) get_next_move()"
   ]
  },
  {
   "cell_type": "code",
   "execution_count": 75,
   "metadata": {},
   "outputs": [
    {
     "data": {
      "text/plain": [
       "{'children': [],\n",
       " 'ply_depth': 1,\n",
       " 'max_depth': 4,\n",
       " 'node_terminal': True,\n",
       " 'node_trap': False,\n",
       " 'node_value': 9223372036854775807,\n",
       " 'game_at_this_node': <__main__.CurrentBoard at 0x22ad9b075c0>,\n",
       " 'comp_first': True}"
      ]
     },
     "execution_count": 75,
     "metadata": {},
     "output_type": "execute_result"
    }
   ],
   "source": [
    "# Expected: the SearchTreeNode\n",
    "# 'node_terminal': True,\n",
    "# 'node_value': 9223372036854775807,\n",
    "vars(stn.get_next_move())"
   ]
  },
  {
   "cell_type": "code",
   "execution_count": 76,
   "metadata": {},
   "outputs": [
    {
     "data": {
      "text/plain": [
       "True"
      ]
     },
     "execution_count": 76,
     "metadata": {},
     "output_type": "execute_result"
    }
   ],
   "source": [
    "# Expected: True\n",
    "stn.node_value == stn.get_next_move().node_value "
   ]
  },
  {
   "cell_type": "markdown",
   "metadata": {},
   "source": [
    "### Test 3) Lose situation for player 1 / Win situation for player 2\n",
    "- index is from 0 to 41, count_move is from 0 to 42 including 42.\n",
    "- player_1 makes first move, meaning that player_1 is on odd count_move, player_2 is on even count_move\n",
    "### Test 3a) min_max_alpha_beta()\n",
    "- the root node is a min layer"
   ]
  },
  {
   "cell_type": "code",
   "execution_count": 77,
   "metadata": {},
   "outputs": [
    {
     "name": "stdout",
     "output_type": "stream",
     "text": [
      "| 1| 2| 3| 4| 5| 6| 7|\n",
      "======================\n",
      "| 1| 2|  | 2|  |  | 1|\n",
      "----------------------\n",
      "| 2| 1| 2| 1| 1| 1| 2|\n",
      "----------------------\n",
      "| 2| 1| 2| 1| 2| 2| 1|\n",
      "----------------------\n",
      "| 2| 2| 2| 1| 1| 2| 1|\n",
      "----------------------\n",
      "| 1| 2| 1| 2| 1| 1| 1|\n",
      "----------------------\n",
      "| 2| 2| 2| 1| 1| 2| 2|\n",
      "----------------------\n"
     ]
    },
    {
     "data": {
      "text/plain": [
       "{'children': [<__main__.SearchTreeNode at 0x22ad9b796d8>],\n",
       " 'ply_depth': 0,\n",
       " 'max_depth': 4,\n",
       " 'node_terminal': False,\n",
       " 'node_trap': False,\n",
       " 'node_value': -9223372036854775807,\n",
       " 'game_at_this_node': <__main__.CurrentBoard at 0x22ad9bdfb38>,\n",
       " 'comp_first': True}"
      ]
     },
     "execution_count": 77,
     "metadata": {},
     "output_type": "execute_result"
    }
   ],
   "source": [
    "board=np.array([2, 2, 2, 1, 1, 2, 2,\n",
    "                1, 2, 1, 2, 1, 1, 1,\n",
    "                2, 2, 2, 1, 1, 2, 1,\n",
    "                2, 1, 2, 1, 2, 2, 1,\n",
    "                2, 1, 2, 1, 1, 1, 2,\n",
    "                1, 2, 0, 2, 0, 0, 1], dtype=int)\n",
    "cb = CurrentBoard(board, count_move=39, index=41, player_at_this_level=1)\n",
    "stn = SearchTreeNode(Current_Game=cb)\n",
    "stn.game_at_this_node.display_game_board()\n",
    "\n",
    "stn.min_max_alpha_beta(is_max=False)\n",
    "# Expected:\n",
    "# 'node_terminal': False,\n",
    "# 'node_value': -9223372036854775807\n",
    "\n",
    "vars(stn)"
   ]
  },
  {
   "cell_type": "code",
   "execution_count": 78,
   "metadata": {},
   "outputs": [
    {
     "name": "stdout",
     "output_type": "stream",
     "text": [
      "PARENT: node_terminal: False; node_value: -9223372036854775807\n",
      "CHILD: node_terminal: True; node_value: -9223372036854775807\n"
     ]
    }
   ],
   "source": [
    "# Test the min layer\n",
    "# Expected:\n",
    "# the node_value of a parent node and node_value of one of his child should have equal value\n",
    "# and the node_value of that child should be the min node_value of all children\n",
    "# and the node_terminal of that child should be True\n",
    "\n",
    "# 'node_terminal': False,\n",
    "# 'node_value': -9223372036854775807, (may be different if the eval function is changed) - the same value as stn.node_value\n",
    "print('PARENT: node_terminal: {}; node_value: {}'.format(stn.node_terminal, stn.node_value))\n",
    "\n",
    "# 'node_terminal': True,\n",
    "# 'node_value': -9223372036854775807, (may be different if the eval function is changed) - the same value as stn.node_value\n",
    "for child in stn.children:\n",
    "    print('CHILD: node_terminal: {}; node_value: {}'.format(child.node_terminal, child.node_value))"
   ]
  },
  {
   "cell_type": "markdown",
   "metadata": {},
   "source": [
    "### Test 3b) get_next_move()"
   ]
  },
  {
   "cell_type": "code",
   "execution_count": 79,
   "metadata": {},
   "outputs": [
    {
     "data": {
      "text/plain": [
       "{'children': [],\n",
       " 'ply_depth': 1,\n",
       " 'max_depth': 4,\n",
       " 'node_terminal': True,\n",
       " 'node_trap': False,\n",
       " 'node_value': -9223372036854775807,\n",
       " 'game_at_this_node': <__main__.CurrentBoard at 0x22ad9bdfd68>,\n",
       " 'comp_first': True}"
      ]
     },
     "execution_count": 79,
     "metadata": {},
     "output_type": "execute_result"
    }
   ],
   "source": [
    "# Expected: the SearchTreeNode\n",
    "# 'node_terminal': True,\n",
    "# 'node_value': -9223372036854775807,\n",
    "vars(stn.get_next_move())"
   ]
  },
  {
   "cell_type": "code",
   "execution_count": 80,
   "metadata": {},
   "outputs": [
    {
     "data": {
      "text/plain": [
       "True"
      ]
     },
     "execution_count": 80,
     "metadata": {},
     "output_type": "execute_result"
    }
   ],
   "source": [
    "# Expected: True\n",
    "stn.node_value == stn.get_next_move().node_value "
   ]
  },
  {
   "cell_type": "markdown",
   "metadata": {},
   "source": [
    "### Test 4) draw situation\n",
    "- index is from 0 to 41, count_move is from 0 to 42 including 42.\n",
    "- player_1 makes first move, meaning that player_1 is on odd count_move, player_2 is on even count_move\n",
    "### Test 4a) min_max_alpha_beta()\n",
    "- the root node is a max layer"
   ]
  },
  {
   "cell_type": "code",
   "execution_count": 81,
   "metadata": {},
   "outputs": [
    {
     "name": "stdout",
     "output_type": "stream",
     "text": [
      "| 1| 2| 3| 4| 5| 6| 7|\n",
      "======================\n",
      "| 1| 2| 1| 2|  | 1| 2|\n",
      "----------------------\n",
      "| 2| 1| 2| 1| 1| 1| 2|\n",
      "----------------------\n",
      "| 2| 1| 2| 1| 2| 2| 1|\n",
      "----------------------\n",
      "| 2| 2| 2| 1| 1| 2| 1|\n",
      "----------------------\n",
      "| 1| 2| 1| 2| 1| 1| 1|\n",
      "----------------------\n",
      "| 2| 2| 2| 1| 1| 2| 2|\n",
      "----------------------\n"
     ]
    },
    {
     "data": {
      "text/plain": [
       "{'children': [<__main__.SearchTreeNode at 0x22ad9b793c8>],\n",
       " 'ply_depth': 0,\n",
       " 'max_depth': 4,\n",
       " 'node_terminal': False,\n",
       " 'node_trap': False,\n",
       " 'node_value': 0,\n",
       " 'game_at_this_node': <__main__.CurrentBoard at 0x22ad9b79978>,\n",
       " 'comp_first': True}"
      ]
     },
     "execution_count": 81,
     "metadata": {},
     "output_type": "execute_result"
    }
   ],
   "source": [
    "board = np.array([2, 2, 2, 1, 1, 2, 2,\n",
    "                    1, 2, 1, 2, 1, 1, 1,\n",
    "                    2, 2, 2, 1, 1, 2, 1,\n",
    "                    2, 1, 2, 1, 2, 2, 1,\n",
    "                    2, 1, 2, 1, 1, 1, 2,\n",
    "                    1, 2, 1, 2, 0, 1, 2], dtype=int)\n",
    "\n",
    "cb = CurrentBoard(setup_of_board=board, count_move=41, index=40 , player_at_this_level=1)\n",
    "stn = SearchTreeNode(Current_Game=cb)\n",
    "stn.game_at_this_node.display_game_board()\n",
    "\n",
    "stn.min_max_alpha_beta(is_max=False)\n",
    "# Expected:\n",
    "# 'node_terminal': False,\n",
    "# 'node_value': 0\n",
    "\n",
    "vars(stn)"
   ]
  },
  {
   "cell_type": "code",
   "execution_count": 82,
   "metadata": {},
   "outputs": [
    {
     "name": "stdout",
     "output_type": "stream",
     "text": [
      "PARENT: node_terminal: False; node_value: 0\n",
      "CHILD: node_terminal: True; node_value: 0\n"
     ]
    }
   ],
   "source": [
    "# Test the max layer\n",
    "# Expected:\n",
    "# the node_value of a parent node and node_value of one of his child should have equal value\n",
    "# and the node_value of that child should be the max node_value of all children\n",
    "# and the node_terminal of that child should be True\n",
    "\n",
    "# 'node_terminal': False,\n",
    "# 'node_value': 0, (may be different if the eval function is changed) - the same value as stn.node_value\n",
    "print('PARENT: node_terminal: {}; node_value: {}'.format(stn.node_terminal, stn.node_value))\n",
    "\n",
    "# 'node_terminal': True,\n",
    "# 'node_value': 0, (may be different if the eval function is changed) - the same value as stn.node_value\n",
    "for child in stn.children:\n",
    "    print('CHILD: node_terminal: {}; node_value: {}'.format(child.node_terminal, child.node_value))"
   ]
  },
  {
   "cell_type": "markdown",
   "metadata": {},
   "source": [
    "### Test 4b) get_next_move()"
   ]
  },
  {
   "cell_type": "code",
   "execution_count": 83,
   "metadata": {},
   "outputs": [
    {
     "data": {
      "text/plain": [
       "{'children': [],\n",
       " 'ply_depth': 1,\n",
       " 'max_depth': 4,\n",
       " 'node_terminal': True,\n",
       " 'node_trap': False,\n",
       " 'node_value': 0,\n",
       " 'game_at_this_node': <__main__.CurrentBoard at 0x22ad9b79518>,\n",
       " 'comp_first': True}"
      ]
     },
     "execution_count": 83,
     "metadata": {},
     "output_type": "execute_result"
    }
   ],
   "source": [
    "# Expected: the SearchTreeNode\n",
    "# 'node_terminal': True,\n",
    "# 'node_value': 0,\n",
    "vars(stn.get_next_move())"
   ]
  },
  {
   "cell_type": "code",
   "execution_count": 84,
   "metadata": {},
   "outputs": [
    {
     "data": {
      "text/plain": [
       "True"
      ]
     },
     "execution_count": 84,
     "metadata": {},
     "output_type": "execute_result"
    }
   ],
   "source": [
    "# Expected: True\n",
    "stn.node_value == stn.get_next_move().node_value "
   ]
  },
  {
   "cell_type": "markdown",
   "metadata": {},
   "source": [
    "## Test all_possible_indices()"
   ]
  },
  {
   "cell_type": "markdown",
   "metadata": {},
   "source": [
    "### Test 1) default SearchNodeTree"
   ]
  },
  {
   "cell_type": "code",
   "execution_count": 85,
   "metadata": {},
   "outputs": [
    {
     "data": {
      "text/plain": [
       "[0, 1, 2, 3, 4, 5, 6]"
      ]
     },
     "execution_count": 85,
     "metadata": {},
     "output_type": "execute_result"
    }
   ],
   "source": [
    "stn = SearchTreeNode(max_depth=2)\n",
    "# Expected: [0, 1, 2, 3, 4, 5, 6]\n",
    "all_possible_indices = stn.all_possible_indices()\n",
    "all_possible_indices"
   ]
  },
  {
   "cell_type": "markdown",
   "metadata": {},
   "source": [
    "### Test 2)"
   ]
  },
  {
   "cell_type": "code",
   "execution_count": 86,
   "metadata": {},
   "outputs": [
    {
     "data": {
      "text/plain": [
       "[None, None, 37, None, 39, 40, None]"
      ]
     },
     "execution_count": 86,
     "metadata": {},
     "output_type": "execute_result"
    }
   ],
   "source": [
    "board=np.array([2, 2, 2, 1, 1, 2, 2,\n",
    "                1, 2, 1, 2, 1, 1, 1,\n",
    "                2, 2, 2, 1, 1, 2, 1,\n",
    "                2, 1, 2, 1, 2, 2, 1,\n",
    "                2, 1, 2, 1, 1, 1, 2,\n",
    "                1, 2, 0, 2, 0, 0, 2], dtype=int)\n",
    "cb = CurrentBoard(board, count_move=39, index=41, player_at_this_level=1)\n",
    "stn = SearchTreeNode(Current_Game=cb)\n",
    "\n",
    "# Expected: [None, None, 37, None, 39, 40, None]\n",
    "all_possible_indices = stn.all_possible_indices()\n",
    "all_possible_indices"
   ]
  },
  {
   "cell_type": "markdown",
   "metadata": {},
   "source": [
    "## Test isCompMove()"
   ]
  },
  {
   "cell_type": "markdown",
   "metadata": {},
   "source": [
    "### Test 1) default SearchTreeNode"
   ]
  },
  {
   "cell_type": "code",
   "execution_count": 87,
   "metadata": {},
   "outputs": [
    {
     "data": {
      "text/plain": [
       "{'children': [<__main__.SearchTreeNode at 0x22ad9b79ef0>,\n",
       "  <__main__.SearchTreeNode at 0x22ad9be9898>,\n",
       "  <__main__.SearchTreeNode at 0x22ad9be9c18>,\n",
       "  <__main__.SearchTreeNode at 0x22ad9be9cc0>],\n",
       " 'ply_depth': 0,\n",
       " 'max_depth': 2,\n",
       " 'node_terminal': False,\n",
       " 'node_trap': False,\n",
       " 'node_value': None,\n",
       " 'game_at_this_node': <__main__.CurrentBoard at 0x22ad9be92e8>,\n",
       " 'comp_first': True}"
      ]
     },
     "execution_count": 87,
     "metadata": {},
     "output_type": "execute_result"
    }
   ],
   "source": [
    "stn = SearchTreeNode(max_depth=2, comp_first=True)\n",
    "vars(stn)"
   ]
  },
  {
   "cell_type": "code",
   "execution_count": 88,
   "metadata": {},
   "outputs": [
    {
     "data": {
      "text/plain": [
       "False"
      ]
     },
     "execution_count": 88,
     "metadata": {},
     "output_type": "execute_result"
    }
   ],
   "source": [
    "# Expected: False\n",
    "stn.isCompMove()"
   ]
  },
  {
   "cell_type": "code",
   "execution_count": 89,
   "metadata": {},
   "outputs": [
    {
     "data": {
      "text/plain": [
       "True"
      ]
     },
     "execution_count": 89,
     "metadata": {},
     "output_type": "execute_result"
    }
   ],
   "source": [
    "# Expected True\n",
    "stn.children[0].isCompMove()"
   ]
  },
  {
   "cell_type": "code",
   "execution_count": 90,
   "metadata": {},
   "outputs": [
    {
     "data": {
      "text/plain": [
       "False"
      ]
     },
     "execution_count": 90,
     "metadata": {},
     "output_type": "execute_result"
    }
   ],
   "source": [
    "# Expected False\n",
    "stn.children[0].children[0].isCompMove()"
   ]
  },
  {
   "cell_type": "markdown",
   "metadata": {},
   "source": [
    "## Test dig_up()"
   ]
  },
  {
   "cell_type": "code",
   "execution_count": 91,
   "metadata": {},
   "outputs": [
    {
     "data": {
      "text/plain": [
       "True"
      ]
     },
     "execution_count": 91,
     "metadata": {},
     "output_type": "execute_result"
    }
   ],
   "source": [
    "# Expected: True\n",
    "# the size of SearchTreeNode after dig_up is equal to the size of SearchTreeNode with double max_depth\n",
    "stn_1 = SearchTreeNode(max_depth=3, comp_first=True)\n",
    "stn_1.dig_up()\n",
    "tree_size_1 = stn_1.tree_size()\n",
    "\n",
    "stn_2 = SearchTreeNode(max_depth=6, comp_first=True)\n",
    "tree_size_2 = stn_2.tree_size()\n",
    "tree_size_1 == tree_size_2"
   ]
  },
  {
   "cell_type": "code",
   "execution_count": 92,
   "metadata": {},
   "outputs": [
    {
     "data": {
      "text/plain": [
       "True"
      ]
     },
     "execution_count": 92,
     "metadata": {},
     "output_type": "execute_result"
    }
   ],
   "source": [
    "board = np.array([2, 2, 2, 1, 1, 2, 2,\n",
    "                    1, 2, 1, 2, 1, 1, 1,\n",
    "                    2, 2, 2, 1, 1, 2, 1,\n",
    "                    2, 1, 2, 1, 2, 2, 1,\n",
    "                    2, 1, 2, 1, 1, 1, 2,\n",
    "                    1, 2, 1, 2, 1, 1, 2], dtype=int)\n",
    "\n",
    "cb = CurrentBoard(setup_of_board=board, count_move=42, index=40 , player_at_this_level=2)\n",
    "stn = SearchTreeNode(Current_Game=cb)\n",
    "stn.min_max_alpha_beta()\n",
    "tree_size_1 = stn.tree_size()\n",
    "stn.dig_up()\n",
    "tree_size_2 = stn.tree_size()\n",
    "\n",
    "tree_size_1 == tree_size_2"
   ]
  },
  {
   "cell_type": "code",
   "execution_count": 93,
   "metadata": {},
   "outputs": [
    {
     "data": {
      "text/plain": [
       "True"
      ]
     },
     "execution_count": 93,
     "metadata": {},
     "output_type": "execute_result"
    }
   ],
   "source": [
    "board = np.array([2, 2, 2, 1, 1, 2, 2,\n",
    "                    1, 2, 1, 2, 1, 1, 1,\n",
    "                    2, 2, 2, 1, 1, 2, 1,\n",
    "                    2, 1, 2, 1, 2, 2, 1,\n",
    "                    2, 1, 2, 1, 1, 1, 2,\n",
    "                    1, 2, 1, 2, 0, 1, 2], dtype=int)\n",
    "\n",
    "cb = CurrentBoard(setup_of_board=board, count_move=41, index=40 , player_at_this_level=1)\n",
    "stn = SearchTreeNode(Current_Game=cb)\n",
    "stn.min_max_alpha_beta()\n",
    "tree_size_1 = stn.tree_size()\n",
    "stn.dig_up()\n",
    "tree_size_2 = stn.tree_size()\n",
    "\n",
    "# Expected: True\n",
    "tree_size_1 == tree_size_2"
   ]
  },
  {
   "cell_type": "code",
   "execution_count": 94,
   "metadata": {},
   "outputs": [
    {
     "name": "stdout",
     "output_type": "stream",
     "text": [
      "[<__main__.SearchTreeNode object at 0x0000022AE0222940>, <__main__.SearchTreeNode object at 0x0000022AE0222978>, <__main__.SearchTreeNode object at 0x0000022AE0222A20>]\n",
      "| 1| 2| 3| 4| 5| 6| 7|\n",
      "======================\n",
      "| 1| 2|  | 2| 2|  | 1|\n",
      "----------------------\n",
      "| 2| 1| 2| 1| 1| 1| 2|\n",
      "----------------------\n",
      "| 2| 1| 2| 1| 2| 2| 1|\n",
      "----------------------\n",
      "| 2| 2| 2| 1| 1| 2| 1|\n",
      "----------------------\n",
      "| 1| 2| 1| 2| 1| 1| 1|\n",
      "----------------------\n",
      "| 2| 2| 2| 1| 1| 2| 2|\n",
      "----------------------\n",
      "CurrentBoard at this node properties:\n"
     ]
    },
    {
     "data": {
      "text/plain": [
       "{'children': [<__main__.SearchTreeNode at 0x22ae0222940>,\n",
       "  <__main__.SearchTreeNode at 0x22ae0222978>,\n",
       "  <__main__.SearchTreeNode at 0x22ae0222a20>],\n",
       " 'ply_depth': 0,\n",
       " 'max_depth': 7,\n",
       " 'node_terminal': False,\n",
       " 'node_trap': False,\n",
       " 'node_value': -9223372036854775807,\n",
       " 'game_at_this_node': <__main__.CurrentBoard at 0x22ae0222780>,\n",
       " 'comp_first': True}"
      ]
     },
     "execution_count": 94,
     "metadata": {},
     "output_type": "execute_result"
    }
   ],
   "source": [
    "board=np.array([2, 2, 2, 1, 1, 2, 2,\n",
    "                1, 2, 1, 2, 1, 1, 1,\n",
    "                2, 2, 2, 1, 1, 2, 1,\n",
    "                2, 1, 2, 1, 2, 2, 1,\n",
    "                2, 1, 2, 1, 1, 1, 2,\n",
    "                1, 2, 0, 2, 0, 0, 1], dtype=int)\n",
    "cb = CurrentBoard(board, count_move=39, index=41, player_at_this_level=1)\n",
    "stn = SearchTreeNode(Current_Game=cb, max_depth=7)\n",
    "stn.min_max_alpha_beta()\n",
    "tree_size_1 = stn.tree_size()\n",
    "#stn.dig_up()\n",
    "tree_size_2 = stn.tree_size()\n",
    "\n",
    "tree_size_1 == tree_size_2\n",
    "print(stn.children)\n",
    "stn.children[1].game_at_this_node.display_game_board()\n",
    "print('CurrentBoard at this node properties:')\n",
    "vars(stn)"
   ]
  },
  {
   "cell_type": "markdown",
   "metadata": {},
   "source": [
    "# TEST PERFORMACNE generate_children() -> min_max_alpha_beta() -> dig_up() -> min_max_alpha_beta()"
   ]
  },
  {
   "cell_type": "markdown",
   "metadata": {},
   "source": [
    "\n",
    "### Test 1) Default SearchTreeNode \n",
    "\n",
    "Expected:\n",
    "- the first move in the middle (the only move that guarantees winning)"
   ]
  },
  {
   "cell_type": "markdown",
   "metadata": {},
   "source": [
    "##  # TODO: Test max_depth: odd max_depth did not give the best first move, the even max_depth gives best first move"
   ]
  },
  {
   "cell_type": "code",
   "execution_count": 95,
   "metadata": {},
   "outputs": [],
   "source": [
    "import time"
   ]
  },
  {
   "cell_type": "code",
   "execution_count": 96,
   "metadata": {},
   "outputs": [
    {
     "name": "stdout",
     "output_type": "stream",
     "text": [
      "0.017990589141845703\n"
     ]
    }
   ],
   "source": [
    "start_time = time.time()\n",
    "\n",
    "stn = SearchTreeNode(max_depth=3)\n",
    "stn.min_max_alpha_beta(is_max=stn.isMax())\n",
    "\n",
    "end_time = time.time()\n",
    "print(end_time - start_time)"
   ]
  },
  {
   "cell_type": "code",
   "execution_count": 97,
   "metadata": {},
   "outputs": [
    {
     "name": "stdout",
     "output_type": "stream",
     "text": [
      "| 1| 2| 3| 4| 5| 6| 7|\n",
      "======================\n",
      "|  |  |  |  |  |  |  |\n",
      "----------------------\n",
      "|  |  |  |  |  |  |  |\n",
      "----------------------\n",
      "|  |  |  |  |  |  |  |\n",
      "----------------------\n",
      "|  |  |  |  |  |  |  |\n",
      "----------------------\n",
      "|  |  |  |  |  |  |  |\n",
      "----------------------\n",
      "|  |  |  | 1|  |  |  |\n",
      "----------------------\n"
     ]
    }
   ],
   "source": [
    "stn.get_next_move().game_at_this_node.display_game_board()"
   ]
  },
  {
   "cell_type": "code",
   "execution_count": 98,
   "metadata": {},
   "outputs": [
    {
     "name": "stdout",
     "output_type": "stream",
     "text": [
      "0.8414797782897949\n"
     ]
    }
   ],
   "source": [
    "start_time = time.time()\n",
    "\n",
    "stn = SearchTreeNode(max_depth=5)\n",
    "stn.min_max_alpha_beta(is_max=stn.isMax())\n",
    "\n",
    "end_time = time.time()\n",
    "print(end_time - start_time)"
   ]
  },
  {
   "cell_type": "code",
   "execution_count": 99,
   "metadata": {},
   "outputs": [
    {
     "name": "stdout",
     "output_type": "stream",
     "text": [
      "| 1| 2| 3| 4| 5| 6| 7|\n",
      "======================\n",
      "|  |  |  |  |  |  |  |\n",
      "----------------------\n",
      "|  |  |  |  |  |  |  |\n",
      "----------------------\n",
      "|  |  |  |  |  |  |  |\n",
      "----------------------\n",
      "|  |  |  |  |  |  |  |\n",
      "----------------------\n",
      "|  |  |  |  |  |  |  |\n",
      "----------------------\n",
      "|  |  |  | 1|  |  |  |\n",
      "----------------------\n"
     ]
    }
   ],
   "source": [
    "stn.get_next_move().game_at_this_node.display_game_board()"
   ]
  },
  {
   "cell_type": "code",
   "execution_count": 100,
   "metadata": {},
   "outputs": [
    {
     "name": "stdout",
     "output_type": "stream",
     "text": [
      "35.67170691490173\n"
     ]
    }
   ],
   "source": [
    "start_time = time.time()\n",
    "\n",
    "stn = SearchTreeNode(max_depth=7)\n",
    "stn.min_max_alpha_beta(is_max=stn.isMax())\n",
    "\n",
    "end_time = time.time()\n",
    "print(end_time - start_time)"
   ]
  },
  {
   "cell_type": "code",
   "execution_count": 101,
   "metadata": {},
   "outputs": [
    {
     "name": "stdout",
     "output_type": "stream",
     "text": [
      "| 1| 2| 3| 4| 5| 6| 7|\n",
      "======================\n",
      "|  |  |  |  |  |  |  |\n",
      "----------------------\n",
      "|  |  |  |  |  |  |  |\n",
      "----------------------\n",
      "|  |  |  |  |  |  |  |\n",
      "----------------------\n",
      "|  |  |  |  |  |  |  |\n",
      "----------------------\n",
      "|  |  |  |  |  |  |  |\n",
      "----------------------\n",
      "|  |  |  | 1|  |  |  |\n",
      "----------------------\n"
     ]
    }
   ],
   "source": [
    "stn.get_next_move().game_at_this_node.display_game_board()"
   ]
  },
  {
   "cell_type": "code",
   "execution_count": 102,
   "metadata": {},
   "outputs": [
    {
     "name": "stdout",
     "output_type": "stream",
     "text": [
      "4.806014537811279\n"
     ]
    }
   ],
   "source": [
    "start_time = time.time()\n",
    "\n",
    "stn = SearchTreeNode(max_depth=6)\n",
    "stn.min_max_alpha_beta(is_max=stn.isMax())\n",
    "\n",
    "end_time = time.time()\n",
    "print(end_time - start_time)"
   ]
  },
  {
   "cell_type": "code",
   "execution_count": 103,
   "metadata": {},
   "outputs": [
    {
     "name": "stdout",
     "output_type": "stream",
     "text": [
      "| 1| 2| 3| 4| 5| 6| 7|\n",
      "======================\n",
      "|  |  |  |  |  |  |  |\n",
      "----------------------\n",
      "|  |  |  |  |  |  |  |\n",
      "----------------------\n",
      "|  |  |  |  |  |  |  |\n",
      "----------------------\n",
      "|  |  |  |  |  |  |  |\n",
      "----------------------\n",
      "|  |  |  |  |  |  |  |\n",
      "----------------------\n",
      "|  |  |  | 1|  |  |  |\n",
      "----------------------\n"
     ]
    }
   ],
   "source": [
    "stn.get_next_move().game_at_this_node.display_game_board()"
   ]
  },
  {
   "cell_type": "code",
   "execution_count": 104,
   "metadata": {},
   "outputs": [
    {
     "name": "stdout",
     "output_type": "stream",
     "text": [
      "0.2338578701019287\n"
     ]
    }
   ],
   "source": [
    "# Reslts:\n",
    "# - pure stn with max_depth=5: 2 sek\n",
    "# - stn max_depth=3, dig_up(2): 0.85 sek\n",
    "\n",
    "start_time = time.time()\n",
    "\n",
    "stn = SearchTreeNode(max_depth=3)\n",
    "stn.min_max_alpha_beta(is_max=stn.isMax())\n",
    "stn.dig_up(2)\n",
    "stn.min_max_alpha_beta(is_max=stn.isMax())\n",
    "\n",
    "end_time = time.time()\n",
    "print(end_time - start_time)\n"
   ]
  },
  {
   "cell_type": "code",
   "execution_count": 105,
   "metadata": {},
   "outputs": [
    {
     "name": "stdout",
     "output_type": "stream",
     "text": [
      "| 1| 2| 3| 4| 5| 6| 7|\n",
      "======================\n",
      "|  |  |  |  |  |  |  |\n",
      "----------------------\n",
      "|  |  |  |  |  |  |  |\n",
      "----------------------\n",
      "|  |  |  |  |  |  |  |\n",
      "----------------------\n",
      "|  |  |  |  |  |  |  |\n",
      "----------------------\n",
      "|  |  |  |  |  |  |  |\n",
      "----------------------\n",
      "|  |  |  | 1|  |  |  |\n",
      "----------------------\n"
     ]
    }
   ],
   "source": [
    "stn.get_next_move().game_at_this_node.display_game_board()"
   ]
  },
  {
   "cell_type": "code",
   "execution_count": 106,
   "metadata": {},
   "outputs": [
    {
     "name": "stdout",
     "output_type": "stream",
     "text": [
      "2.1656582355499268\n"
     ]
    }
   ],
   "source": [
    "# Reslts:\n",
    "# - pure stn with max_depth=7: 90 sek\n",
    "# - stn max_depth=5, dig_up(2): 7 sek\n",
    "\n",
    "# Much better performance but wrong result. The first move is not in the middle\n",
    "\n",
    "start_time = time.time()\n",
    "\n",
    "stn = SearchTreeNode(max_depth=5)\n",
    "stn.min_max_alpha_beta(is_max=stn.isMax())\n",
    "stn.dig_up(2)\n",
    "stn.min_max_alpha_beta(is_max=stn.isMax())\n",
    "\n",
    "end_time = time.time()\n",
    "print(end_time - start_time)"
   ]
  },
  {
   "cell_type": "code",
   "execution_count": 107,
   "metadata": {},
   "outputs": [
    {
     "name": "stdout",
     "output_type": "stream",
     "text": [
      "| 1| 2| 3| 4| 5| 6| 7|\n",
      "======================\n",
      "|  |  |  |  |  |  |  |\n",
      "----------------------\n",
      "|  |  |  |  |  |  |  |\n",
      "----------------------\n",
      "|  |  |  |  |  |  |  |\n",
      "----------------------\n",
      "|  |  |  |  |  |  |  |\n",
      "----------------------\n",
      "|  |  |  |  |  |  |  |\n",
      "----------------------\n",
      "|  |  | 1|  |  |  |  |\n",
      "----------------------\n"
     ]
    }
   ],
   "source": [
    "stn.get_next_move().game_at_this_node.display_game_board()"
   ]
  },
  {
   "cell_type": "code",
   "execution_count": 108,
   "metadata": {},
   "outputs": [
    {
     "name": "stdout",
     "output_type": "stream",
     "text": [
      "1.608001947402954\n"
     ]
    }
   ],
   "source": [
    "# Reslts:\n",
    "# - pure stn with max_depth=7: 90 sek\n",
    "# - stn max_depth=3, dig_up(2), dig_up(2): 5 sek\n",
    "\n",
    "# Fast but it is loosing the best move. The first move is not in the middle\n",
    "\n",
    "start_time = time.time()\n",
    "\n",
    "stn = SearchTreeNode(max_depth=3)\n",
    "stn.min_max_alpha_beta(is_max=stn.isMax())\n",
    "stn.dig_up(2)\n",
    "stn.min_max_alpha_beta(is_max=stn.isMax())\n",
    "stn.dig_up(2)\n",
    "stn.min_max_alpha_beta(is_max=stn.isMax())\n",
    "\n",
    "end_time = time.time()\n",
    "print(end_time - start_time)"
   ]
  },
  {
   "cell_type": "code",
   "execution_count": 109,
   "metadata": {},
   "outputs": [
    {
     "name": "stdout",
     "output_type": "stream",
     "text": [
      "| 1| 2| 3| 4| 5| 6| 7|\n",
      "======================\n",
      "|  |  |  |  |  |  |  |\n",
      "----------------------\n",
      "|  |  |  |  |  |  |  |\n",
      "----------------------\n",
      "|  |  |  |  |  |  |  |\n",
      "----------------------\n",
      "|  |  |  |  |  |  |  |\n",
      "----------------------\n",
      "|  |  |  |  |  |  |  |\n",
      "----------------------\n",
      "|  |  | 1|  |  |  |  |\n",
      "----------------------\n"
     ]
    }
   ],
   "source": [
    "stn.get_next_move().game_at_this_node.display_game_board()"
   ]
  },
  {
   "cell_type": "code",
   "execution_count": null,
   "metadata": {},
   "outputs": [],
   "source": []
  },
  {
   "cell_type": "code",
   "execution_count": 110,
   "metadata": {},
   "outputs": [
    {
     "name": "stdout",
     "output_type": "stream",
     "text": [
      "10.534822225570679\n"
     ]
    }
   ],
   "source": [
    "# Expected- first move in the middle of the bottom row\n",
    "# Result:\n",
    "# Slow and it is still loosing the best move. \n",
    "\n",
    "start_time = time.time()\n",
    "\n",
    "stn = SearchTreeNode(max_depth=5)\n",
    "stn.min_max_alpha_beta(is_max=stn.isMax())\n",
    "stn.dig_up(3)\n",
    "stn.min_max_alpha_beta(is_max=stn.isMax())\n",
    "\n",
    "end_time = time.time()\n",
    "print(end_time - start_time)"
   ]
  },
  {
   "cell_type": "code",
   "execution_count": 111,
   "metadata": {},
   "outputs": [
    {
     "name": "stdout",
     "output_type": "stream",
     "text": [
      "| 1| 2| 3| 4| 5| 6| 7|\n",
      "======================\n",
      "|  |  |  |  |  |  |  |\n",
      "----------------------\n",
      "|  |  |  |  |  |  |  |\n",
      "----------------------\n",
      "|  |  |  |  |  |  |  |\n",
      "----------------------\n",
      "|  |  |  |  |  |  |  |\n",
      "----------------------\n",
      "|  |  |  |  |  |  |  |\n",
      "----------------------\n",
      "|  |  | 1|  |  |  |  |\n",
      "----------------------\n"
     ]
    }
   ],
   "source": [
    "stn.get_next_move().game_at_this_node.display_game_board()"
   ]
  },
  {
   "cell_type": "markdown",
   "metadata": {},
   "source": [
    "# TEST RUNNER CLASS"
   ]
  },
  {
   "cell_type": "code",
   "execution_count": 112,
   "metadata": {},
   "outputs": [
    {
     "data": {
      "text/plain": [
       "{'user_name': 'Adam',\n",
       " 'player_1': 1,\n",
       " 'player_2': 2,\n",
       " 'comp_first': True,\n",
       " 'game_search_tree_node': None,\n",
       " 'current_board': None,\n",
       " 'result': None,\n",
       " 'user_char': None,\n",
       " 'comp_char': None,\n",
       " 'max_depth': 3}"
      ]
     },
     "execution_count": 112,
     "metadata": {},
     "output_type": "execute_result"
    }
   ],
   "source": [
    "runner = Runner()\n",
    "vars(runner)"
   ]
  },
  {
   "cell_type": "markdown",
   "metadata": {},
   "source": [
    "## Test set_up_game() method"
   ]
  },
  {
   "cell_type": "code",
   "execution_count": 113,
   "metadata": {},
   "outputs": [],
   "source": [
    "# runner.set_up_game()"
   ]
  },
  {
   "cell_type": "code",
   "execution_count": 114,
   "metadata": {},
   "outputs": [],
   "source": [
    "# vars(runner)"
   ]
  },
  {
   "cell_type": "markdown",
   "metadata": {},
   "source": [
    "## Test first_move()"
   ]
  },
  {
   "cell_type": "code",
   "execution_count": 115,
   "metadata": {},
   "outputs": [],
   "source": [
    "# runner.first_move()"
   ]
  },
  {
   "cell_type": "code",
   "execution_count": 116,
   "metadata": {},
   "outputs": [],
   "source": [
    "# Expected: game_search_tree_node': <__main__.SearchTreeNode at .... >\n",
    "# vars(runner)"
   ]
  },
  {
   "cell_type": "code",
   "execution_count": 117,
   "metadata": {},
   "outputs": [],
   "source": [
    "# vars(runner.game_search_tree_node)"
   ]
  },
  {
   "cell_type": "code",
   "execution_count": 118,
   "metadata": {},
   "outputs": [],
   "source": [
    "# vars(runner.game_search_tree_node.children[0].game_at_this_node)"
   ]
  },
  {
   "cell_type": "code",
   "execution_count": 119,
   "metadata": {},
   "outputs": [],
   "source": [
    "# vars(runner.game_search_tree_node.game_at_this_node)"
   ]
  },
  {
   "cell_type": "code",
   "execution_count": 120,
   "metadata": {},
   "outputs": [],
   "source": [
    "# runner.game_search_tree_node.game_at_this_node.display_game_board()"
   ]
  },
  {
   "cell_type": "code",
   "execution_count": 121,
   "metadata": {},
   "outputs": [],
   "source": [
    "# runner.game_search_tree_node.next_move.game_at_this_node.display_game_board()"
   ]
  },
  {
   "cell_type": "markdown",
   "metadata": {},
   "source": [
    "## Test validate_input() method"
   ]
  },
  {
   "cell_type": "code",
   "execution_count": 122,
   "metadata": {},
   "outputs": [],
   "source": [
    "# runner.validate_input()"
   ]
  },
  {
   "cell_type": "markdown",
   "metadata": {},
   "source": [
    "## Test loop_game()"
   ]
  },
  {
   "cell_type": "code",
   "execution_count": 123,
   "metadata": {},
   "outputs": [],
   "source": [
    "# runner.loop_game()"
   ]
  },
  {
   "cell_type": "code",
   "execution_count": 124,
   "metadata": {},
   "outputs": [],
   "source": [
    "# vars(runner)"
   ]
  },
  {
   "cell_type": "markdown",
   "metadata": {},
   "source": [
    "### Test run()"
   ]
  },
  {
   "cell_type": "code",
   "execution_count": 125,
   "metadata": {},
   "outputs": [],
   "source": [
    "# stop -> delete to run game"
   ]
  },
  {
   "cell_type": "code",
   "execution_count": 126,
   "metadata": {},
   "outputs": [
    {
     "name": "stdout",
     "output_type": "stream",
     "text": [
      "Hello, insert your nameAdam\n",
      "Would you like to start Y/Nn\n",
      "In a loop_game method. Computer Move - count_move: 1; outcome is: 7; comp_char: 1, \n",
      "Board after computer move is:\n",
      "| 1| 2| 3| 4| 5| 6| 7|\n",
      "======================\n",
      "|  |  |  |  |  |  |  |\n",
      "----------------------\n",
      "|  |  |  |  |  |  |  |\n",
      "----------------------\n",
      "|  |  |  |  |  |  |  |\n",
      "----------------------\n",
      "|  |  |  |  |  |  |  |\n",
      "----------------------\n",
      "|  |  |  |  |  |  |  |\n",
      "----------------------\n",
      "|  |  |  | 1|  |  |  |\n",
      "----------------------\n",
      "Adam, it is your turn. Choose column >> \n",
      "3\n",
      "User Move - count_move: 2; outcome is: 5; comp_char: 1, player_at_this_level 2\n",
      "Board after User move is:\n",
      "| 1| 2| 3| 4| 5| 6| 7|\n",
      "======================\n",
      "|  |  |  |  |  |  |  |\n",
      "----------------------\n",
      "|  |  |  |  |  |  |  |\n",
      "----------------------\n",
      "|  |  |  |  |  |  |  |\n",
      "----------------------\n",
      "|  |  |  |  |  |  |  |\n",
      "----------------------\n",
      "|  |  |  |  |  |  |  |\n",
      "----------------------\n",
      "|  |  | 2| 1|  |  |  |\n",
      "----------------------\n",
      "In a loop_game method. Computer Move - count_move: 3; outcome is: 9; comp_char: 1, \n",
      "Board after computer move is:\n",
      "| 1| 2| 3| 4| 5| 6| 7|\n",
      "======================\n",
      "|  |  |  |  |  |  |  |\n",
      "----------------------\n",
      "|  |  |  |  |  |  |  |\n",
      "----------------------\n",
      "|  |  |  |  |  |  |  |\n",
      "----------------------\n",
      "|  |  |  |  |  |  |  |\n",
      "----------------------\n",
      "|  |  |  | 1|  |  |  |\n",
      "----------------------\n",
      "|  |  | 2| 1|  |  |  |\n",
      "----------------------\n",
      "Adam, it is your turn. Choose column >> \n",
      "3\n",
      "User Move - count_move: 4; outcome is: 7; comp_char: 1, player_at_this_level 2\n",
      "Board after User move is:\n",
      "| 1| 2| 3| 4| 5| 6| 7|\n",
      "======================\n",
      "|  |  |  |  |  |  |  |\n",
      "----------------------\n",
      "|  |  |  |  |  |  |  |\n",
      "----------------------\n",
      "|  |  |  |  |  |  |  |\n",
      "----------------------\n",
      "|  |  |  |  |  |  |  |\n",
      "----------------------\n",
      "|  |  | 2| 1|  |  |  |\n",
      "----------------------\n",
      "|  |  | 2| 1|  |  |  |\n",
      "----------------------\n",
      "In a loop_game method. Computer Move - count_move: 5; outcome is: 11; comp_char: 1, \n",
      "Board after computer move is:\n",
      "| 1| 2| 3| 4| 5| 6| 7|\n",
      "======================\n",
      "|  |  |  |  |  |  |  |\n",
      "----------------------\n",
      "|  |  |  |  |  |  |  |\n",
      "----------------------\n",
      "|  |  |  |  |  |  |  |\n",
      "----------------------\n",
      "|  |  |  | 1|  |  |  |\n",
      "----------------------\n",
      "|  |  | 2| 1|  |  |  |\n",
      "----------------------\n",
      "|  |  | 2| 1|  |  |  |\n",
      "----------------------\n",
      "Adam, it is your turn. Choose column >> \n",
      "3\n",
      "User Move - count_move: 6; outcome is: 9; comp_char: 1, player_at_this_level 2\n",
      "Board after User move is:\n",
      "| 1| 2| 3| 4| 5| 6| 7|\n",
      "======================\n",
      "|  |  |  |  |  |  |  |\n",
      "----------------------\n",
      "|  |  |  |  |  |  |  |\n",
      "----------------------\n",
      "|  |  |  |  |  |  |  |\n",
      "----------------------\n",
      "|  |  | 2| 1|  |  |  |\n",
      "----------------------\n",
      "|  |  | 2| 1|  |  |  |\n",
      "----------------------\n",
      "|  |  | 2| 1|  |  |  |\n",
      "----------------------\n",
      "In a loop_game method. Computer Move - count_move: 7; outcome is: 9223372036854775807; comp_char: 1, \n",
      "Game over\n",
      "| 1| 2| 3| 4| 5| 6| 7|\n",
      "======================\n",
      "|  |  |  |  |  |  |  |\n",
      "----------------------\n",
      "|  |  |  |  |  |  |  |\n",
      "----------------------\n",
      "|  |  |  | 1|  |  |  |\n",
      "----------------------\n",
      "|  |  | 2| 1|  |  |  |\n",
      "----------------------\n",
      "|  |  | 2| 1|  |  |  |\n",
      "----------------------\n",
      "|  |  | 2| 1|  |  |  |\n",
      "----------------------\n",
      "Adam , you have lost\n"
     ]
    }
   ],
   "source": [
    "runner = Runner(max_depth=3)\n",
    "runner.run()"
   ]
  },
  {
   "cell_type": "code",
   "execution_count": null,
   "metadata": {},
   "outputs": [],
   "source": []
  },
  {
   "cell_type": "code",
   "execution_count": null,
   "metadata": {},
   "outputs": [],
   "source": []
  },
  {
   "cell_type": "code",
   "execution_count": null,
   "metadata": {},
   "outputs": [],
   "source": []
  },
  {
   "cell_type": "code",
   "execution_count": null,
   "metadata": {},
   "outputs": [],
   "source": []
  },
  {
   "cell_type": "code",
   "execution_count": null,
   "metadata": {},
   "outputs": [],
   "source": []
  },
  {
   "cell_type": "code",
   "execution_count": null,
   "metadata": {},
   "outputs": [],
   "source": []
  }
 ],
 "metadata": {
  "kernelspec": {
   "display_name": "Python 3",
   "language": "python",
   "name": "python3"
  },
  "language_info": {
   "codemirror_mode": {
    "name": "ipython",
    "version": 3
   },
   "file_extension": ".py",
   "mimetype": "text/x-python",
   "name": "python",
   "nbconvert_exporter": "python",
   "pygments_lexer": "ipython3",
   "version": "3.6.10"
  }
 },
 "nbformat": 4,
 "nbformat_minor": 4
}
